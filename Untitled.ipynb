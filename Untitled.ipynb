{
 "cells": [
  {
   "cell_type": "code",
   "execution_count": 2,
   "id": "2ba4076a",
   "metadata": {},
   "outputs": [],
   "source": [
    "import findspark\n",
    "findspark.init('/home/ubuntu/spark-3.2.1-bin-hadoop2.7')\n",
    "import pyspark\n",
    "from pyspark.sql import SparkSession\n",
    "spark = SparkSession.builder.appName(\"BusBreakdowns\").getOrCreate()\n",
    "\n",
    "# Read the file \n",
    "file = \"Bus_Breakdown_and_Delays.csv.gz\"\n",
    "df = spark.read.option(\"header\", \"true\").csv(file)"
   ]
  },
  {
   "cell_type": "code",
   "execution_count": 3,
   "id": "a86ecac9",
   "metadata": {},
   "outputs": [
    {
     "name": "stdout",
     "output_type": "stream",
     "text": [
      "root\n",
      " |-- School_Year: string (nullable = true)\n",
      " |-- Busbreakdown_ID: string (nullable = true)\n",
      " |-- Run_Type: string (nullable = true)\n",
      " |-- Bus_No: string (nullable = true)\n",
      " |-- Route_Number: string (nullable = true)\n",
      " |-- Reason: string (nullable = true)\n",
      " |-- Schools_Serviced: string (nullable = true)\n",
      " |-- Occurred_On: string (nullable = true)\n",
      " |-- Created_On: string (nullable = true)\n",
      " |-- Boro: string (nullable = true)\n",
      " |-- Bus_Company_Name: string (nullable = true)\n",
      " |-- How_Long_Delayed: string (nullable = true)\n",
      " |-- Number_Of_Students_On_The_Bus: string (nullable = true)\n",
      " |-- Has_Contractor_Notified_Schools: string (nullable = true)\n",
      " |-- Has_Contractor_Notified_Parents: string (nullable = true)\n",
      " |-- Have_You_Alerted_OPT: string (nullable = true)\n",
      " |-- Informed_On: string (nullable = true)\n",
      " |-- Incident_Number: string (nullable = true)\n",
      " |-- Last_Updated_On: string (nullable = true)\n",
      " |-- Breakdown_or_Running_Late: string (nullable = true)\n",
      " |-- School_Age_or_PreK: string (nullable = true)\n",
      "\n"
     ]
    }
   ],
   "source": [
    "df.printSchema()"
   ]
  },
  {
   "cell_type": "code",
   "execution_count": 4,
   "id": "d110833b",
   "metadata": {},
   "outputs": [
    {
     "data": {
      "text/plain": [
       "[Row(School_Year='2018-2019', Busbreakdown_ID='1456627', Run_Type='General Ed AM Run', Bus_No='1141', Route_Number='R1086', Reason='Heavy Traffic', Schools_Serviced='31051', Occurred_On='09/05/2018 07:28:00 AM', Created_On='09/05/2018 07:29:00 AM', Boro='Staten Island', Bus_Company_Name='PIONEER TRANSPORTATION CORP', How_Long_Delayed='31-45 Min', Number_Of_Students_On_The_Bus='0', Has_Contractor_Notified_Schools='Yes', Has_Contractor_Notified_Parents='No', Have_You_Alerted_OPT='No', Informed_On='09/05/2018 07:29:00 AM', Incident_Number=None, Last_Updated_On='01/01/1900 12:00:00 AM', Breakdown_or_Running_Late='Running Late', School_Age_or_PreK='School-Age'),\n",
       " Row(School_Year='2018-2019', Busbreakdown_ID='1456628', Run_Type='Special Ed AM Run', Bus_No='87D', Route_Number='X966', Reason='Mechanical Problem', Schools_Serviced='12,006,120,091,213,400,000', Occurred_On='09/05/2018 07:10:00 AM', Created_On='09/05/2018 07:29:00 AM', Boro='Bronx', Bus_Company_Name='LITTLE LISA BUS CO. INC.', How_Long_Delayed=None, Number_Of_Students_On_The_Bus='0', Has_Contractor_Notified_Schools='Yes', Has_Contractor_Notified_Parents='Yes', Have_You_Alerted_OPT='No', Informed_On='09/05/2018 07:29:00 AM', Incident_Number=None, Last_Updated_On='01/01/1900 12:00:00 AM', Breakdown_or_Running_Late='Breakdown', School_Age_or_PreK='School-Age')]"
      ]
     },
     "execution_count": 4,
     "metadata": {},
     "output_type": "execute_result"
    }
   ],
   "source": [
    "df.head(2)"
   ]
  },
  {
   "cell_type": "code",
   "execution_count": null,
   "id": "70c2bde0",
   "metadata": {},
   "outputs": [],
   "source": []
  }
 ],
 "metadata": {
  "kernelspec": {
   "display_name": "Python 3 (ipykernel)",
   "language": "python",
   "name": "python3"
  },
  "language_info": {
   "codemirror_mode": {
    "name": "ipython",
    "version": 3
   },
   "file_extension": ".py",
   "mimetype": "text/x-python",
   "name": "python",
   "nbconvert_exporter": "python",
   "pygments_lexer": "ipython3",
   "version": "3.10.4"
  }
 },
 "nbformat": 4,
 "nbformat_minor": 5
}
