{
 "cells": [
  {
   "cell_type": "code",
   "execution_count": 4,
   "id": "00e60da4",
   "metadata": {},
   "outputs": [
    {
     "name": "stderr",
     "output_type": "stream",
     "text": [
      "                                                                                \r"
     ]
    },
    {
     "name": "stdout",
     "output_type": "stream",
     "text": [
      "Shape of data: (10000, 21)\n",
      "root\n",
      " |-- School_Year: string (nullable = true)\n",
      " |-- Busbreakdown_ID: string (nullable = true)\n",
      " |-- Run_Type: string (nullable = true)\n",
      " |-- Bus_No: string (nullable = true)\n",
      " |-- Route_Number: string (nullable = true)\n",
      " |-- Reason: string (nullable = true)\n",
      " |-- Schools_Serviced: string (nullable = true)\n",
      " |-- Occurred_On: string (nullable = true)\n",
      " |-- Created_On: string (nullable = true)\n",
      " |-- Boro: string (nullable = true)\n",
      " |-- Bus_Company_Name: string (nullable = true)\n",
      " |-- How_Long_Delayed: string (nullable = true)\n",
      " |-- Number_Of_Students_On_The_Bus: string (nullable = true)\n",
      " |-- Has_Contractor_Notified_Schools: string (nullable = true)\n",
      " |-- Has_Contractor_Notified_Parents: string (nullable = true)\n",
      " |-- Have_You_Alerted_OPT: string (nullable = true)\n",
      " |-- Informed_On: string (nullable = true)\n",
      " |-- Incident_Number: string (nullable = true)\n",
      " |-- Last_Updated_On: string (nullable = true)\n",
      " |-- Breakdown_or_Running_Late: string (nullable = true)\n",
      " |-- School_Age_or_PreK: string (nullable = true)\n",
      "\n"
     ]
    }
   ],
   "source": [
    "import findspark\n",
    "findspark.init('/home/ubuntu/spark-3.2.1-bin-hadoop2.7')\n",
    "import pyspark\n",
    "from pyspark.sql import SparkSession\n",
    "spark = SparkSession.builder.appName(\"BusBreakdowns\").getOrCreate()\n",
    "\n",
    "# Read the file \n",
    "file = \"sampled_data.csv\"\n",
    "df = spark.read.option(\"header\", \"true\").csv(file)\n",
    "\n",
    "print(f\"Shape of data: ({df.count()}, {len(df.columns)})\")\n",
    "df.printSchema()"
   ]
  },
  {
   "cell_type": "code",
   "execution_count": 5,
   "id": "7eeb5195",
   "metadata": {},
   "outputs": [
    {
     "name": "stderr",
     "output_type": "stream",
     "text": [
      "\r",
      "[Stage 4:===========================================================(1 + 0) / 1]\r"
     ]
    },
    {
     "name": "stdout",
     "output_type": "stream",
     "text": [
      "+-----------+---------------+--------+------+------------+------+----------------+-----------+----------+----+----------------+----------------+-----------------------------+-------------------------------+-------------------------------+--------------------+-----------+---------------+---------------+-------------------------+------------------+\n",
      "|School_Year|Busbreakdown_ID|Run_Type|Bus_No|Route_Number|Reason|Schools_Serviced|Occurred_On|Created_On|Boro|Bus_Company_Name|How_Long_Delayed|Number_Of_Students_On_The_Bus|Has_Contractor_Notified_Schools|Has_Contractor_Notified_Parents|Have_You_Alerted_OPT|Informed_On|Incident_Number|Last_Updated_On|Breakdown_or_Running_Late|School_Age_or_PreK|\n",
      "+-----------+---------------+--------+------+------------+------+----------------+-----------+----------+----+----------------+----------------+-----------------------------+-------------------------------+-------------------------------+--------------------+-----------+---------------+---------------+-------------------------+------------------+\n",
      "|          0|              0|       0|     0|           0|     0|               0|          0|         0|   2|               0|             755|                            0|                              0|                              0|                   0|          0|           9961|              0|                        0|                 0|\n",
      "+-----------+---------------+--------+------+------------+------+----------------+-----------+----------+----+----------------+----------------+-----------------------------+-------------------------------+-------------------------------+--------------------+-----------+---------------+---------------+-------------------------+------------------+\n",
      "\n"
     ]
    },
    {
     "name": "stderr",
     "output_type": "stream",
     "text": [
      "\r",
      "                                                                                \r"
     ]
    }
   ],
   "source": [
    "from pyspark.sql.functions import when, col\n",
    "missing_data = df.selectExpr([f'sum(if({c} is null, 1, 0)) as {c}' for c in df.columns])\n",
    "missing_data.show()"
   ]
  },
  {
   "cell_type": "code",
   "execution_count": 6,
   "id": "cd71cfae",
   "metadata": {},
   "outputs": [
    {
     "name": "stderr",
     "output_type": "stream",
     "text": [
      "                                                                                \r"
     ]
    },
    {
     "name": "stdout",
     "output_type": "stream",
     "text": [
      "+----------------+-----+\n",
      "|How_Long_Delayed|count|\n",
      "+----------------+-----+\n",
      "|        0-15 Min|  967|\n",
      "|       16-30 Min| 2599|\n",
      "|       31-45 Min| 3004|\n",
      "|       46-60 Min| 1732|\n",
      "|       61-90 Min|  943|\n",
      "+----------------+-----+\n",
      "\n",
      "+-----------+---------------+--------+------+------------+------+----------------+-----------+----------+----+----------------+----------------+-----------------------------+-------------------------------+-------------------------------+--------------------+-----------+---------------+---------------+-------------------------+------------------+\n",
      "|School_Year|Busbreakdown_ID|Run_Type|Bus_No|Route_Number|Reason|Schools_Serviced|Occurred_On|Created_On|Boro|Bus_Company_Name|How_Long_Delayed|Number_Of_Students_On_The_Bus|Has_Contractor_Notified_Schools|Has_Contractor_Notified_Parents|Have_You_Alerted_OPT|Informed_On|Incident_Number|Last_Updated_On|Breakdown_or_Running_Late|School_Age_or_PreK|\n",
      "+-----------+---------------+--------+------+------------+------+----------------+-----------+----------+----+----------------+----------------+-----------------------------+-------------------------------+-------------------------------+--------------------+-----------+---------------+---------------+-------------------------+------------------+\n",
      "|          0|              0|       0|     0|           0|     0|               0|          0|         0|   0|               0|               0|                            0|                              0|                              0|                   0|          0|           9207|              0|                        0|                 0|\n",
      "+-----------+---------------+--------+------+------------+------+----------------+-----------+----------+----+----------------+----------------+-----------------------------+-------------------------------+-------------------------------+--------------------+-----------+---------------+---------------+-------------------------+------------------+\n",
      "\n"
     ]
    }
   ],
   "source": [
    "from pyspark.sql.functions import when, col\n",
    "delay_time_category = ['16-30 Min', '31-45 Min', '0-15 Min', '46-60 Min', '61-90 Min']\n",
    "df = df.filter(df['How_Long_Delayed'].isin(delay_time_category)).withColumn(\"How_Long_Delayed\", when(\n",
    "    col(\"How_Long_Delayed\").isin(delay_time_category) | col(\"How_Long_Delayed\").isNotNull(), \n",
    "    col(\"How_Long_Delayed\")).otherwise(\"91-Inf Min\"))\n",
    "df.groupBy(\"How_Long_Delayed\").count().show()\n",
    "\n",
    "columns_to_drop_na = ['Run_Type', 'Reason', 'Boro', 'School_Age_or_PreK']\n",
    "df = df.dropna(subset=columns_to_drop_na)\n",
    "\n",
    "missing_data = df.selectExpr([f'sum(if({c} is null, 1, 0)) as {c}' for c in df.columns])\n",
    "missing_data.show()"
   ]
  },
  {
   "cell_type": "code",
   "execution_count": 7,
   "id": "fa045345",
   "metadata": {},
   "outputs": [
    {
     "name": "stdout",
     "output_type": "stream",
     "text": [
      "+-------+-----------------------------+\n",
      "|summary|Number_Of_Students_On_The_Bus|\n",
      "+-------+-----------------------------+\n",
      "|  count|                         9243|\n",
      "|   mean|           3.3417721518987342|\n",
      "| stddev|            97.23426454195086|\n",
      "|    min|                            0|\n",
      "|    max|                         9034|\n",
      "+-------+-----------------------------+\n",
      "\n"
     ]
    }
   ],
   "source": [
    "column_name = 'Number_Of_Students_On_The_Bus'\n",
    "df.select(column_name).describe().show()"
   ]
  },
  {
   "cell_type": "code",
   "execution_count": 8,
   "id": "b84376e2",
   "metadata": {},
   "outputs": [
    {
     "name": "stdout",
     "output_type": "stream",
     "text": [
      "+-------+-----------------------------+\n",
      "|summary|Number_Of_Students_On_The_Bus|\n",
      "+-------+-----------------------------+\n",
      "|  count|                         9243|\n",
      "|   mean|           3.3417721518987342|\n",
      "| stddev|            97.23426454195086|\n",
      "|    min|                            0|\n",
      "|    max|                         9034|\n",
      "+-------+-----------------------------+\n",
      "\n",
      "+-------+-----------------------------+\n",
      "|summary|Number_Of_Students_On_The_Bus|\n",
      "+-------+-----------------------------+\n",
      "|  count|                         9237|\n",
      "|   mean|           1.8448630507740609|\n",
      "| stddev|            3.701987116836907|\n",
      "|    min|                            0|\n",
      "|    max|                            9|\n",
      "+-------+-----------------------------+\n",
      "\n"
     ]
    }
   ],
   "source": [
    "column_name = 'Number_Of_Students_On_The_Bus'\n",
    "df.select(column_name).describe().show()\n",
    "df.filter(df[column_name]<100).select(column_name).describe().show()"
   ]
  },
  {
   "cell_type": "code",
   "execution_count": 11,
   "id": "c34370c9",
   "metadata": {},
   "outputs": [
    {
     "name": "stdout",
     "output_type": "stream",
     "text": [
      "+-------+-----------------------------+\n",
      "|summary|Number_Of_Students_On_The_Bus|\n",
      "+-------+-----------------------------+\n",
      "|  count|                         9201|\n",
      "|   mean|            1.732094337572003|\n",
      "| stddev|           3.1971218806600255|\n",
      "|    min|                            0|\n",
      "|    max|                            9|\n",
      "+-------+-----------------------------+\n",
      "\n"
     ]
    }
   ],
   "source": [
    "from pyspark.sql.window import Window\n",
    "from pyspark.sql import functions as F\n",
    "\n",
    "mean_value = df.agg({'Number_Of_Students_On_The_Bus': 'mean'}).collect()[0][0]\n",
    "stddev_value = df.agg({'Number_Of_Students_On_The_Bus': 'stddev'}).collect()[0][0]\n",
    "\n",
    "df = df.withColumn('z_scores', (df['Number_Of_Students_On_The_Bus'] - mean_value) / stddev_value)\n",
    "df = df.filter((df['Number_Of_Students_On_The_Bus'] < 100) & (df['z_scores'] < 5))\n",
    "df.select(column_name).describe().show()"
   ]
  },
  {
   "cell_type": "code",
   "execution_count": 12,
   "id": "8a177c81",
   "metadata": {},
   "outputs": [
    {
     "name": "stdout",
     "output_type": "stream",
     "text": [
      "+-------------------+---------------------+\n",
      "|        Occurred_On|Formatted_Occurred_On|\n",
      "+-------------------+---------------------+\n",
      "|2022-10-12 15:22:00| 10/12/2022 03:22:...|\n",
      "|2023-04-17 14:20:00| 04/17/2023 02:20:...|\n",
      "|2020-01-24 15:23:00| 01/24/2020 03:23:...|\n",
      "|2021-10-07 15:20:00| 10/07/2021 03:20:...|\n",
      "|2018-10-03 07:25:00| 10/03/2018 07:25:...|\n",
      "|2021-04-08 07:52:00| 04/08/2021 07:52:...|\n",
      "|2022-10-13 08:20:00| 10/13/2022 08:20:...|\n",
      "|2022-09-28 06:03:00| 09/28/2022 06:03:...|\n",
      "|2021-05-28 08:52:00| 05/28/2021 08:52:...|\n",
      "|2023-05-03 06:45:00| 05/03/2023 06:45:...|\n",
      "|2022-02-07 07:30:00| 02/07/2022 07:30:...|\n",
      "|2022-10-06 14:55:00| 10/06/2022 02:55:...|\n",
      "|2019-12-20 06:43:00| 12/20/2019 06:43:...|\n",
      "|2022-10-12 09:00:00| 10/12/2022 09:00:...|\n",
      "|2021-10-15 07:00:00| 10/15/2021 07:00:...|\n",
      "|2023-02-28 13:33:00| 02/28/2023 01:33:...|\n",
      "|2019-11-22 07:33:00| 11/22/2019 07:33:...|\n",
      "|2018-09-12 04:10:00| 09/12/2018 04:10:...|\n",
      "|2023-03-16 05:20:00| 03/16/2023 05:20:...|\n",
      "|2021-11-22 07:01:00| 11/22/2021 07:01:...|\n",
      "+-------------------+---------------------+\n",
      "only showing top 20 rows\n",
      "\n"
     ]
    }
   ],
   "source": [
    "from pyspark.sql.functions import to_timestamp\n",
    "from pyspark.sql.types import TimestampType\n",
    "from pyspark.sql.functions import date_format\n",
    "\n",
    "df = df.withColumn('Occurred_On', to_timestamp(df['Occurred_On'], 'MM/dd/yyyy hh:mm:ss a'))\n",
    "df = df.withColumn('Occurred_On', df['Occurred_On'].cast(TimestampType()))\n",
    "df.select('Occurred_On', date_format('Occurred_On', 'MM/dd/yyyy hh:mm:ss a').alias('Formatted_Occurred_On')).show()"
   ]
  },
  {
   "cell_type": "code",
   "execution_count": 13,
   "id": "04d66b09",
   "metadata": {},
   "outputs": [],
   "source": [
    "from pyspark.sql.functions import hour, dayofweek, month\n",
    "import matplotlib.pyplot as plt\n",
    "\n",
    "# Derive new columns\n",
    "df = df.withColumn(\"Occurred_On_Hour\", hour(\"Occurred_On\"))\n",
    "df = df.withColumn(\"Occurred_On_DayOfWeek\", (dayofweek(\"Occurred_On\") - 1).cast(\"integer\"))\n",
    "df = df.withColumn(\"Occurred_On_Month\", month(\"Occurred_On\"))"
   ]
  },
  {
   "cell_type": "code",
   "execution_count": 14,
   "id": "95283006",
   "metadata": {},
   "outputs": [
    {
     "name": "stdout",
     "output_type": "stream",
     "text": [
      "+----------------+-----+\n",
      "|Occurred_On_Hour|Count|\n",
      "+----------------+-----+\n",
      "|               0|   20|\n",
      "|               1|   11|\n",
      "|               2|   20|\n",
      "|               3|    8|\n",
      "|               4|    4|\n",
      "|               5|  355|\n",
      "|               6| 2839|\n",
      "|               7| 3132|\n",
      "|               8|  748|\n",
      "|               9|   62|\n",
      "|              10|   14|\n",
      "|              11|   21|\n",
      "|              12|   59|\n",
      "|              13|  799|\n",
      "|              14|  811|\n",
      "|              15|  244|\n",
      "|              16|   42|\n",
      "|              17|   12|\n",
      "+----------------+-----+\n",
      "\n"
     ]
    },
    {
     "data": {
      "image/png": "[encoded data removed]",
      "text/plain": [
       "<Figure size 432x288 with 1 Axes>"
      ]
     },
     "metadata": {
      "needs_background": "light"
     },
     "output_type": "display_data"
    },
    {
     "data": {
      "image/png": "[encoded data removed]",
      "text/plain": [
       "<Figure size 720x432 with 1 Axes>"
      ]
     },
     "metadata": {
      "needs_background": "light"
     },
     "output_type": "display_data"
    },
    {
     "name": "stdout",
     "output_type": "stream",
     "text": [
      "+---------------------+-----+\n",
      "|Occurred_On_DayOfWeek|Count|\n",
      "+---------------------+-----+\n",
      "|                    1| 1827|\n",
      "|                    2| 1862|\n",
      "|                    3| 1881|\n",
      "|                    4| 1869|\n",
      "|                    5| 1762|\n",
      "+---------------------+-----+\n",
      "\n"
     ]
    },
    {
     "data": {
      "image/png": "[encoded data removed]",
      "text/plain": [
       "<Figure size 432x288 with 1 Axes>"
      ]
     },
     "metadata": {
      "needs_background": "light"
     },
     "output_type": "display_data"
    },
    {
     "data": {
      "image/png": "[encoded data removed]",
      "text/plain": [
       "<Figure size 720x432 with 1 Axes>"
      ]
     },
     "metadata": {
      "needs_background": "light"
     },
     "output_type": "display_data"
    },
    {
     "name": "stdout",
     "output_type": "stream",
     "text": [
      "+-----------------+-----+\n",
      "|Occurred_On_Month|Count|\n",
      "+-----------------+-----+\n",
      "|                1| 1015|\n",
      "|                2|  861|\n",
      "|                3|  966|\n",
      "|                4|  634|\n",
      "|                5|  884|\n",
      "|                6|  489|\n",
      "|                9|  863|\n",
      "|               10| 1401|\n",
      "|               11| 1196|\n",
      "|               12|  892|\n",
      "+-----------------+-----+\n",
      "\n"
     ]
    },
    {
     "data": {
      "image/png": "[encoded data removed]",
      "text/plain": [
       "<Figure size 432x288 with 1 Axes>"
      ]
     },
     "metadata": {
      "needs_background": "light"
     },
     "output_type": "display_data"
    },
    {
     "data": {
      "image/png": "[encoded data removed]",
      "text/plain": [
       "<Figure size 720x432 with 1 Axes>"
      ]
     },
     "metadata": {
      "needs_background": "light"
     },
     "output_type": "display_data"
    }
   ],
   "source": [
    "# Visualize the data\n",
    "colname_time_new = ['Occurred_On_Hour', 'Occurred_On_DayOfWeek', 'Occurred_On_Month']\n",
    "df.createOrReplaceTempView(\"bus_data\")\n",
    "for item in colname_time_new:\n",
    "    result = spark.sql(f\"SELECT {item}, COUNT(*) AS Count FROM bus_data GROUP BY {item} ORDER BY {item}\")\n",
    "    result.show()\n",
    "    \n",
    "    data = result.toPandas()\n",
    "    data.plot(kind='bar', x=item, y='Count', legend=False)\n",
    "    plt.ylabel('Count')\n",
    "    plt.xlabel(item)\n",
    "    plt.xticks(rotation=0)\n",
    "    plt.show()\n",
    "    \n",
    "    data = df.groupBy(item, 'How_Long_Delayed').count().orderBy('How_Long_Delayed')\n",
    "    pivot_df = data.toPandas().pivot(index=item, columns='How_Long_Delayed', values='count')\n",
    "    pivot_df.plot(kind='bar', figsize=(10, 6))\n",
    "    plt.ylabel('Count')\n",
    "    plt.xlabel(item)\n",
    "    plt.xticks(rotation=15)\n",
    "    plt.title(f'Counts of {item} by How_Long_Delayed')\n",
    "    plt.show()"
   ]
  },
  {
   "cell_type": "code",
   "execution_count": 15,
   "id": "08139667",
   "metadata": {},
   "outputs": [
    {
     "name": "stdout",
     "output_type": "stream",
     "text": [
      "root\n",
      " |-- School_Year: string (nullable = true)\n",
      " |-- Run_Type: string (nullable = true)\n",
      " |-- Reason: string (nullable = true)\n",
      " |-- Boro: string (nullable = true)\n",
      " |-- Bus_Company_Name: string (nullable = true)\n",
      " |-- School_Age_or_PreK: string (nullable = true)\n",
      " |-- Number_Of_Students_On_The_Bus: integer (nullable = true)\n",
      " |-- Occurred_On_Hour: integer (nullable = true)\n",
      " |-- Occurred_On_Month: integer (nullable = true)\n",
      " |-- How_Long_Delayed: string (nullable = true)\n",
      " |-- Has_Contractor_Notified_Schools: string (nullable = true)\n",
      " |-- Has_Contractor_Notified_Parents: string (nullable = true)\n",
      " |-- Have_You_Alerted_OPT: string (nullable = true)\n",
      "\n"
     ]
    },
    {
     "name": "stderr",
     "output_type": "stream",
     "text": [
      "                                                                                \r"
     ]
    }
   ],
   "source": [
    "from pyspark.sql.types import IntegerType\n",
    "df = df.withColumn(\"Number_Of_Students_On_The_Bus\", df[\"Number_Of_Students_On_The_Bus\"].cast(IntegerType()))\n",
    "# Select specific columns\n",
    "selected_columns = ['School_Year', 'Run_Type', 'Reason', 'Boro', 'Bus_Company_Name',\n",
    "                    'School_Age_or_PreK', 'Number_Of_Students_On_The_Bus', 'Occurred_On_Hour',\n",
    "                    'Occurred_On_Month', 'How_Long_Delayed', 'Has_Contractor_Notified_Schools',\n",
    "                    'Has_Contractor_Notified_Parents', 'Have_You_Alerted_OPT']\n",
    "\n",
    "df = df.select(selected_columns)\n",
    "\n",
    "# Show DataFrame info\n",
    "df.printSchema()\n",
    "\n",
    "# Save the DataFrame to a CSV file\n",
    "df.write.csv('cleaned.csv', header=True, mode='overwrite')"
   ]
  },
  {
   "cell_type": "code",
   "execution_count": 7,
   "id": "daec891f",
   "metadata": {},
   "outputs": [],
   "source": [
    "import findspark\n",
    "findspark.init('/home/ubuntu/spark-3.2.1-bin-hadoop2.7')\n",
    "import pyspark\n",
    "from pyspark.sql import SparkSession\n",
    "spark = SparkSession.builder.appName(\"BusBreakdowns\").getOrCreate()\n",
    "\n",
    "# Read the file \n",
    "file = \"cleaned.csv\"\n",
    "df = spark.read.option(\"header\", \"true\").csv(file)"
   ]
  },
  {
   "cell_type": "code",
   "execution_count": 8,
   "id": "3b02bdea",
   "metadata": {},
   "outputs": [],
   "source": [
    "import numpy as np\n",
    "import matplotlib.pyplot as plt\n",
    "from pyspark.sql.functions import when, log\n",
    "from pyspark.sql.types import DoubleType\n",
    "from pyspark.sql import functions as F\n",
    "\n",
    "\n",
    "df = df.withColumn('How_Long_Delayed', when(df['How_Long_Delayed'] == '0-15 Min', 15)\n",
    "                                   .when(df['How_Long_Delayed'] == '16-30 Min', 30)\n",
    "                                   .when(df['How_Long_Delayed'] == '31-45 Min', 45)\n",
    "                                   .when(df['How_Long_Delayed'] == '46-60 Min', 60)\n",
    "                                   .when(df['How_Long_Delayed'] == '61-90 Min', 90)\n",
    "                                   .when(df['How_Long_Delayed'] == '91-Inf Min', 360)\n",
    "                                   .otherwise(df['How_Long_Delayed']).cast(DoubleType()))"
   ]
  },
  {
   "cell_type": "code",
   "execution_count": 9,
   "id": "277b400c",
   "metadata": {},
   "outputs": [
    {
     "name": "stdout",
     "output_type": "stream",
     "text": [
      "+-------+-----------------+\n",
      "|summary| How_Long_Delayed|\n",
      "+-------+-----------------+\n",
      "|  count|             9201|\n",
      "|   mean|45.08151287903489|\n",
      "| stddev|20.15116477737358|\n",
      "|    min|             15.0|\n",
      "|    max|             90.0|\n",
      "+-------+-----------------+\n",
      "\n"
     ]
    },
    {
     "data": {
      "image/png": "[encoded data removed]",
      "text/plain": [
       "<Figure size 576x432 with 1 Axes>"
      ]
     },
     "metadata": {
      "needs_background": "light"
     },
     "output_type": "display_data"
    }
   ],
   "source": [
    "df.select('How_Long_Delayed').describe().show()\n",
    "\n",
    "counts = df.groupBy('How_Long_Delayed').agg(F.count('*').alias('Count'))\n",
    "counts_pandas = counts.toPandas()\n",
    "plt.figure(figsize=(8, 6))\n",
    "plt.bar(counts_pandas['How_Long_Delayed'], counts_pandas['Count'])\n",
    "plt.ylabel('How_Long_Delayed')\n",
    "plt.title('Box Plot of How_Long_Delayed')\n",
    "plt.show()"
   ]
  },
  {
   "cell_type": "code",
   "execution_count": 10,
   "id": "9a75c5f2",
   "metadata": {},
   "outputs": [],
   "source": [
    "df = df.withColumn('How_Long_Delayed', log(df['How_Long_Delayed']))"
   ]
  },
  {
   "cell_type": "code",
   "execution_count": 11,
   "id": "5ae4e6a9",
   "metadata": {},
   "outputs": [
    {
     "name": "stdout",
     "output_type": "stream",
     "text": [
      "+-------+------------------+\n",
      "|summary|  How_Long_Delayed|\n",
      "+-------+------------------+\n",
      "|  count|              9201|\n",
      "|   mean| 3.703379906828375|\n",
      "| stddev|0.4749949512108136|\n",
      "|    min|  2.70805020110221|\n",
      "|    max| 4.499809670330265|\n",
      "+-------+------------------+\n",
      "\n"
     ]
    },
    {
     "data": {
      "image/png": "[encoded data removed]",
      "text/plain": [
       "<Figure size 576x432 with 1 Axes>"
      ]
     },
     "metadata": {
      "needs_background": "light"
     },
     "output_type": "display_data"
    }
   ],
   "source": [
    "df.select('How_Long_Delayed').describe().show()\n",
    "\n",
    "counts = df.groupBy('How_Long_Delayed').agg(F.count('*').alias('Count'))\n",
    "counts_pandas = counts.toPandas()\n",
    "plt.figure(figsize=(8, 6))\n",
    "plt.bar(counts_pandas['How_Long_Delayed'], counts_pandas['Count'])\n",
    "plt.ylabel('Logarithmic Transformed How_Long_Delayed')\n",
    "plt.title('Box Plot of Logarithmic Transformed How_Long_Delayed')\n",
    "plt.show()"
   ]
  },
  {
   "cell_type": "code",
   "execution_count": 12,
   "id": "e922d0e5",
   "metadata": {},
   "outputs": [
    {
     "name": "stderr",
     "output_type": "stream",
     "text": [
      "                                                                                \r"
     ]
    }
   ],
   "source": [
    "from pyspark.ml.feature import VectorAssembler\n",
    "from pyspark.ml.regression import LinearRegression\n",
    "from pyspark.ml.evaluation import RegressionEvaluator\n",
    "from pyspark.ml.feature import StringIndexer, OneHotEncoder\n",
    "from pyspark.sql import SparkSession\n",
    "\n",
    "# List of categorical columns\n",
    "categorical_columns = ['School_Year', 'Run_Type', 'Reason', 'Boro','Number_Of_Students_On_The_Bus', 'Occurred_On_Hour', 'Occurred_On_Month',\n",
    "                       'Bus_Company_Name', 'School_Age_or_PreK',\n",
    "                       'Has_Contractor_Notified_Schools', 'Has_Contractor_Notified_Parents',\n",
    "                       'Have_You_Alerted_OPT']\n",
    "\n",
    "stages = []\n",
    "\n",
    "for col in categorical_columns:\n",
    "    indexer = StringIndexer(inputCol=col, outputCol=col + \"_index\", handleInvalid=\"keep\")\n",
    "    encoder = OneHotEncoder(inputCol=col + \"_index\", outputCol=col + \"_encoded\")\n",
    "    stages += [indexer, encoder]\n",
    "\n",
    "from pyspark.ml import Pipeline\n",
    "\n",
    "pipeline = Pipeline(stages=stages)\n",
    "model = pipeline.fit(df)\n",
    "df = model.transform(df)"
   ]
  },
  {
   "cell_type": "code",
   "execution_count": 13,
   "id": "a6257dd0",
   "metadata": {},
   "outputs": [
    {
     "name": "stderr",
     "output_type": "stream",
     "text": [
      "23/10/12 17:53:45 WARN Instrumentation: [4111d975] regParam is zero, which might cause numerical instability and overfitting.\n",
      "23/10/12 17:53:47 WARN InstanceBuilder$NativeBLAS: Failed to load implementation from:dev.ludovic.netlib.blas.JNIBLAS\n",
      "23/10/12 17:53:47 WARN InstanceBuilder$NativeBLAS: Failed to load implementation from:dev.ludovic.netlib.blas.ForeignLinkerBLAS\n",
      "23/10/12 17:53:47 WARN InstanceBuilder$NativeLAPACK: Failed to load implementation from:dev.ludovic.netlib.lapack.JNILAPACK\n",
      "23/10/12 17:53:47 WARN Instrumentation: [4111d975] Cholesky solver failed due to singular covariance matrix. Retrying with Quasi-Newton solver.\n",
      "                                                                                \r"
     ]
    },
    {
     "name": "stdout",
     "output_type": "stream",
     "text": [
      "Model for group 1 features:\n",
      "Root Mean Squared Error (RMSE): 0.455825014899164\n",
      "R-squared (R2): 0.07898749660487492\n",
      "\n"
     ]
    },
    {
     "name": "stderr",
     "output_type": "stream",
     "text": [
      "23/10/12 17:53:51 WARN Instrumentation: [ab7efe63] regParam is zero, which might cause numerical instability and overfitting.\n",
      "23/10/12 17:53:51 WARN Instrumentation: [ab7efe63] Cholesky solver failed due to singular covariance matrix. Retrying with Quasi-Newton solver.\n"
     ]
    },
    {
     "name": "stdout",
     "output_type": "stream",
     "text": [
      "Model for group 2 features:\n",
      "Root Mean Squared Error (RMSE): 0.3472469367823476\n",
      "R-squared (R2): 0.4655020263741063\n",
      "\n"
     ]
    },
    {
     "name": "stderr",
     "output_type": "stream",
     "text": [
      "23/10/12 17:53:53 WARN Instrumentation: [2554234c] regParam is zero, which might cause numerical instability and overfitting.\n",
      "23/10/12 17:53:54 WARN Instrumentation: [2554234c] Cholesky solver failed due to singular covariance matrix. Retrying with Quasi-Newton solver.\n",
      "[Stage 71:>                                                         (0 + 1) / 1]\r"
     ]
    },
    {
     "name": "stdout",
     "output_type": "stream",
     "text": [
      "Model for group 3 features:\n",
      "Root Mean Squared Error (RMSE): 0.46754756874053943\n",
      "R-squared (R2): 0.031006592396392807\n",
      "\n"
     ]
    },
    {
     "name": "stderr",
     "output_type": "stream",
     "text": [
      "\r",
      "                                                                                \r"
     ]
    }
   ],
   "source": [
    "# Define the target column\n",
    "target_column = 'How_Long_Delayed'\n",
    "\n",
    "# Define a list of groups of features\n",
    "feature_groups = [\n",
    "    ['School_Year_encoded', 'Number_Of_Students_On_The_Bus_encoded', 'Occurred_On_Hour_encoded', 'Occurred_On_Month_encoded'],\n",
    "    ['Run_Type_encoded', 'Reason_encoded', 'Boro_encoded', 'Bus_Company_Name_encoded'],\n",
    "    ['School_Age_or_PreK_encoded', 'Has_Contractor_Notified_Schools_encoded', 'Has_Contractor_Notified_Parents_encoded', 'Have_You_Alerted_OPT_encoded']\n",
    "]\n",
    "\n",
    "for i, group in enumerate(feature_groups):\n",
    "    sub_df = df.select(group + [target_column])\n",
    "\n",
    "    feature_assembler = VectorAssembler(inputCols=group, outputCol=\"features\")\n",
    "    sub_df = feature_assembler.transform(sub_df)\n",
    "\n",
    "    lr = LinearRegression(featuresCol=\"features\", labelCol=target_column)\n",
    "    lr_model = lr.fit(sub_df)\n",
    "\n",
    "    evaluator = RegressionEvaluator(labelCol=target_column, predictionCol=\"prediction\", metricName=\"rmse\")\n",
    "    rmse = evaluator.evaluate(lr_model.transform(sub_df))\n",
    "    r2 = evaluator.evaluate(lr_model.transform(sub_df), {evaluator.metricName: \"r2\"})\n",
    "\n",
    "    print(f\"Model for group {i + 1} features:\")\n",
    "    print(f\"Root Mean Squared Error (RMSE): {rmse}\")\n",
    "    print(f\"R-squared (R2): {r2}\\n\")  "
   ]
  },
  {
   "cell_type": "code",
   "execution_count": 18,
   "id": "a9013f64",
   "metadata": {},
   "outputs": [
    {
     "name": "stdout",
     "output_type": "stream",
     "text": [
      "root\n",
      " |-- How_Long_Delayed: double (nullable = true)\n",
      " |-- Run_Type_encoded: vector (nullable = true)\n",
      " |-- Reason_encoded: vector (nullable = true)\n",
      " |-- Boro_encoded: vector (nullable = true)\n",
      " |-- Bus_Company_Name_encoded: vector (nullable = true)\n",
      "\n"
     ]
    }
   ],
   "source": [
    "selected_columns = ['How_Long_Delayed', 'Run_Type_encoded', 'Reason_encoded', 'Boro_encoded', 'Bus_Company_Name_encoded']\n",
    "\n",
    "df = df.select(selected_columns)\n",
    "\n",
    "# Show DataFrame info\n",
    "df.printSchema()"
   ]
  },
  {
   "cell_type": "code",
   "execution_count": 19,
   "id": "0e39626c",
   "metadata": {},
   "outputs": [
    {
     "ename": "IllegalArgumentException",
     "evalue": "features does not exist. Available: How_Long_Delayed, Run_Type_feature, Reason_feature, Boro_feature, Bus_Company_Name_feature",
     "output_type": "error",
     "traceback": [
      "\u001b[0;31m---------------------------------------------------------------------------\u001b[0m",
      "\u001b[0;31mIllegalArgumentException\u001b[0m                  Traceback (most recent call last)",
      "Input \u001b[0;32mIn [19]\u001b[0m, in \u001b[0;36m<cell line: 35>\u001b[0;34m()\u001b[0m\n\u001b[1;32m     25\u001b[0m glm \u001b[38;5;241m=\u001b[39m GeneralizedLinearRegression(\n\u001b[1;32m     26\u001b[0m     featuresCol\u001b[38;5;241m=\u001b[39m\u001b[38;5;124m\"\u001b[39m\u001b[38;5;124mfeatures\u001b[39m\u001b[38;5;124m\"\u001b[39m,\n\u001b[1;32m     27\u001b[0m     labelCol\u001b[38;5;241m=\u001b[39m\u001b[38;5;124m\"\u001b[39m\u001b[38;5;124mHow_Long_Delayed\u001b[39m\u001b[38;5;124m\"\u001b[39m,\n\u001b[0;32m   (...)\u001b[0m\n\u001b[1;32m     31\u001b[0m     regParam\u001b[38;5;241m=\u001b[39m\u001b[38;5;241m0.3\u001b[39m\n\u001b[1;32m     32\u001b[0m )\n\u001b[1;32m     34\u001b[0m \u001b[38;5;66;03m# Fit the GLM model\u001b[39;00m\n\u001b[0;32m---> 35\u001b[0m glm_model \u001b[38;5;241m=\u001b[39m \u001b[43mglm\u001b[49m\u001b[38;5;241;43m.\u001b[39;49m\u001b[43mfit\u001b[49m\u001b[43m(\u001b[49m\u001b[43mglm_data\u001b[49m\u001b[43m)\u001b[49m\n\u001b[1;32m     37\u001b[0m \u001b[38;5;66;03m# View the summary of the GLM model\u001b[39;00m\n\u001b[1;32m     38\u001b[0m \u001b[38;5;28mprint\u001b[39m(glm_model\u001b[38;5;241m.\u001b[39msummary)\n",
      "File \u001b[0;32m~/spark-3.2.1-bin-hadoop2.7/python/pyspark/ml/base.py:161\u001b[0m, in \u001b[0;36mEstimator.fit\u001b[0;34m(self, dataset, params)\u001b[0m\n\u001b[1;32m    159\u001b[0m         \u001b[38;5;28;01mreturn\u001b[39;00m \u001b[38;5;28mself\u001b[39m\u001b[38;5;241m.\u001b[39mcopy(params)\u001b[38;5;241m.\u001b[39m_fit(dataset)\n\u001b[1;32m    160\u001b[0m     \u001b[38;5;28;01melse\u001b[39;00m:\n\u001b[0;32m--> 161\u001b[0m         \u001b[38;5;28;01mreturn\u001b[39;00m \u001b[38;5;28;43mself\u001b[39;49m\u001b[38;5;241;43m.\u001b[39;49m\u001b[43m_fit\u001b[49m\u001b[43m(\u001b[49m\u001b[43mdataset\u001b[49m\u001b[43m)\u001b[49m\n\u001b[1;32m    162\u001b[0m \u001b[38;5;28;01melse\u001b[39;00m:\n\u001b[1;32m    163\u001b[0m     \u001b[38;5;28;01mraise\u001b[39;00m \u001b[38;5;167;01mTypeError\u001b[39;00m(\u001b[38;5;124m\"\u001b[39m\u001b[38;5;124mParams must be either a param map or a list/tuple of param maps, \u001b[39m\u001b[38;5;124m\"\u001b[39m\n\u001b[1;32m    164\u001b[0m                     \u001b[38;5;124m\"\u001b[39m\u001b[38;5;124mbut got \u001b[39m\u001b[38;5;132;01m%s\u001b[39;00m\u001b[38;5;124m.\u001b[39m\u001b[38;5;124m\"\u001b[39m \u001b[38;5;241m%\u001b[39m \u001b[38;5;28mtype\u001b[39m(params))\n",
      "File \u001b[0;32m~/spark-3.2.1-bin-hadoop2.7/python/pyspark/ml/wrapper.py:335\u001b[0m, in \u001b[0;36mJavaEstimator._fit\u001b[0;34m(self, dataset)\u001b[0m\n\u001b[1;32m    334\u001b[0m \u001b[38;5;28;01mdef\u001b[39;00m \u001b[38;5;21m_fit\u001b[39m(\u001b[38;5;28mself\u001b[39m, dataset):\n\u001b[0;32m--> 335\u001b[0m     java_model \u001b[38;5;241m=\u001b[39m \u001b[38;5;28;43mself\u001b[39;49m\u001b[38;5;241;43m.\u001b[39;49m\u001b[43m_fit_java\u001b[49m\u001b[43m(\u001b[49m\u001b[43mdataset\u001b[49m\u001b[43m)\u001b[49m\n\u001b[1;32m    336\u001b[0m     model \u001b[38;5;241m=\u001b[39m \u001b[38;5;28mself\u001b[39m\u001b[38;5;241m.\u001b[39m_create_model(java_model)\n\u001b[1;32m    337\u001b[0m     \u001b[38;5;28;01mreturn\u001b[39;00m \u001b[38;5;28mself\u001b[39m\u001b[38;5;241m.\u001b[39m_copyValues(model)\n",
      "File \u001b[0;32m~/spark-3.2.1-bin-hadoop2.7/python/pyspark/ml/wrapper.py:332\u001b[0m, in \u001b[0;36mJavaEstimator._fit_java\u001b[0;34m(self, dataset)\u001b[0m\n\u001b[1;32m    318\u001b[0m \u001b[38;5;124;03m\"\"\"\u001b[39;00m\n\u001b[1;32m    319\u001b[0m \u001b[38;5;124;03mFits a Java model to the input dataset.\u001b[39;00m\n\u001b[1;32m    320\u001b[0m \n\u001b[0;32m   (...)\u001b[0m\n\u001b[1;32m    329\u001b[0m \u001b[38;5;124;03m    fitted Java model\u001b[39;00m\n\u001b[1;32m    330\u001b[0m \u001b[38;5;124;03m\"\"\"\u001b[39;00m\n\u001b[1;32m    331\u001b[0m \u001b[38;5;28mself\u001b[39m\u001b[38;5;241m.\u001b[39m_transfer_params_to_java()\n\u001b[0;32m--> 332\u001b[0m \u001b[38;5;28;01mreturn\u001b[39;00m \u001b[38;5;28;43mself\u001b[39;49m\u001b[38;5;241;43m.\u001b[39;49m\u001b[43m_java_obj\u001b[49m\u001b[38;5;241;43m.\u001b[39;49m\u001b[43mfit\u001b[49m\u001b[43m(\u001b[49m\u001b[43mdataset\u001b[49m\u001b[38;5;241;43m.\u001b[39;49m\u001b[43m_jdf\u001b[49m\u001b[43m)\u001b[49m\n",
      "File \u001b[0;32m~/spark-3.2.1-bin-hadoop2.7/python/lib/py4j-0.10.9.3-src.zip/py4j/java_gateway.py:1321\u001b[0m, in \u001b[0;36mJavaMember.__call__\u001b[0;34m(self, *args)\u001b[0m\n\u001b[1;32m   1315\u001b[0m command \u001b[38;5;241m=\u001b[39m proto\u001b[38;5;241m.\u001b[39mCALL_COMMAND_NAME \u001b[38;5;241m+\u001b[39m\\\n\u001b[1;32m   1316\u001b[0m     \u001b[38;5;28mself\u001b[39m\u001b[38;5;241m.\u001b[39mcommand_header \u001b[38;5;241m+\u001b[39m\\\n\u001b[1;32m   1317\u001b[0m     args_command \u001b[38;5;241m+\u001b[39m\\\n\u001b[1;32m   1318\u001b[0m     proto\u001b[38;5;241m.\u001b[39mEND_COMMAND_PART\n\u001b[1;32m   1320\u001b[0m answer \u001b[38;5;241m=\u001b[39m \u001b[38;5;28mself\u001b[39m\u001b[38;5;241m.\u001b[39mgateway_client\u001b[38;5;241m.\u001b[39msend_command(command)\n\u001b[0;32m-> 1321\u001b[0m return_value \u001b[38;5;241m=\u001b[39m \u001b[43mget_return_value\u001b[49m\u001b[43m(\u001b[49m\n\u001b[1;32m   1322\u001b[0m \u001b[43m    \u001b[49m\u001b[43manswer\u001b[49m\u001b[43m,\u001b[49m\u001b[43m \u001b[49m\u001b[38;5;28;43mself\u001b[39;49m\u001b[38;5;241;43m.\u001b[39;49m\u001b[43mgateway_client\u001b[49m\u001b[43m,\u001b[49m\u001b[43m \u001b[49m\u001b[38;5;28;43mself\u001b[39;49m\u001b[38;5;241;43m.\u001b[39;49m\u001b[43mtarget_id\u001b[49m\u001b[43m,\u001b[49m\u001b[43m \u001b[49m\u001b[38;5;28;43mself\u001b[39;49m\u001b[38;5;241;43m.\u001b[39;49m\u001b[43mname\u001b[49m\u001b[43m)\u001b[49m\n\u001b[1;32m   1324\u001b[0m \u001b[38;5;28;01mfor\u001b[39;00m temp_arg \u001b[38;5;129;01min\u001b[39;00m temp_args:\n\u001b[1;32m   1325\u001b[0m     temp_arg\u001b[38;5;241m.\u001b[39m_detach()\n",
      "File \u001b[0;32m~/spark-3.2.1-bin-hadoop2.7/python/pyspark/sql/utils.py:117\u001b[0m, in \u001b[0;36mcapture_sql_exception.<locals>.deco\u001b[0;34m(*a, **kw)\u001b[0m\n\u001b[1;32m    113\u001b[0m converted \u001b[38;5;241m=\u001b[39m convert_exception(e\u001b[38;5;241m.\u001b[39mjava_exception)\n\u001b[1;32m    114\u001b[0m \u001b[38;5;28;01mif\u001b[39;00m \u001b[38;5;129;01mnot\u001b[39;00m \u001b[38;5;28misinstance\u001b[39m(converted, UnknownException):\n\u001b[1;32m    115\u001b[0m     \u001b[38;5;66;03m# Hide where the exception came from that shows a non-Pythonic\u001b[39;00m\n\u001b[1;32m    116\u001b[0m     \u001b[38;5;66;03m# JVM exception message.\u001b[39;00m\n\u001b[0;32m--> 117\u001b[0m     \u001b[38;5;28;01mraise\u001b[39;00m converted \u001b[38;5;28;01mfrom\u001b[39;00m \u001b[38;5;28mNone\u001b[39m\n\u001b[1;32m    118\u001b[0m \u001b[38;5;28;01melse\u001b[39;00m:\n\u001b[1;32m    119\u001b[0m     \u001b[38;5;28;01mraise\u001b[39;00m\n",
      "\u001b[0;31mIllegalArgumentException\u001b[0m: features does not exist. Available: How_Long_Delayed, Run_Type_feature, Reason_feature, Boro_feature, Bus_Company_Name_feature"
     ]
    }
   ],
   "source": [
    "from pyspark.ml.regression import GeneralizedLinearRegression\n",
    "from pyspark.ml.linalg import Vectors\n",
    "from pyspark.sql.functions import udf\n",
    "from pyspark.sql.types import DoubleType\n",
    "\n",
    "# Create a new DataFrame with extracted features\n",
    "def extract_feature_vector(vector):\n",
    "    return Vectors.dense(vector.toArray())\n",
    "\n",
    "extract_feature_vector_udf = udf(extract_feature_vector, DoubleType())\n",
    "\n",
    "df = df.withColumn(\"Run_Type_feature\", extract_feature_vector_udf(df[\"Run_Type_encoded\"]))\n",
    "df = df.withColumn(\"Reason_feature\", extract_feature_vector_udf(df[\"Reason_encoded\"]))\n",
    "df = df.withColumn(\"Boro_feature\", extract_feature_vector_udf(df[\"Boro_encoded\"]))\n",
    "df = df.withColumn(\"Bus_Company_Name_feature\", extract_feature_vector_udf(df[\"Bus_Company_Name_encoded\"]))\n",
    "\n",
    "# Select columns for the GLM model\n",
    "selected_columns = ['How_Long_Delayed', 'Run_Type_feature', 'Reason_feature', 'Boro_feature', 'Bus_Company_Name_feature']\n",
    "glm_data = df.select(selected_columns)\n",
    "\n",
    "# Define the features column\n",
    "features_col = [\"Run_Type_feature\", \"Reason_feature\", \"Boro_feature\", \"Bus_Company_Name_feature\"]\n",
    "\n",
    "# Create a GLM model\n",
    "glm = GeneralizedLinearRegression(\n",
    "    featuresCol=\"features\",\n",
    "    labelCol=\"How_Long_Delayed\",\n",
    "    family=\"gaussian\",\n",
    "    link=\"identity\",\n",
    "    maxIter=10,\n",
    "    regParam=0.3\n",
    ")\n",
    "\n",
    "# Fit the GLM model\n",
    "glm_model = glm.fit(glm_data)\n",
    "\n",
    "# View the summary of the GLM model\n",
    "print(glm_model.summary)\n"
   ]
  },
  {
   "cell_type": "code",
   "execution_count": null,
   "id": "af5d748e",
   "metadata": {},
   "outputs": [],
   "source": [
    "df.printSchema()"
   ]
  },
  {
   "cell_type": "code",
   "execution_count": null,
   "id": "237ebdf7",
   "metadata": {},
   "outputs": [],
   "source": []
  }
 ],
 "metadata": {
  "kernelspec": {
   "display_name": "Python 3 (ipykernel)",
   "language": "python",
   "name": "python3"
  },
  "language_info": {
   "codemirror_mode": {
    "name": "ipython",
    "version": 3
   },
   "file_extension": ".py",
   "mimetype": "text/x-python",
   "name": "python",
   "nbconvert_exporter": "python",
   "pygments_lexer": "ipython3",
   "version": "3.10.4"
  }
 },
 "nbformat": 4,
 "nbformat_minor": 5
}
