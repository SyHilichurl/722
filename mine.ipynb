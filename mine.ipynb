{
 "cells": [
  {
   "cell_type": "code",
   "execution_count": 4,
   "id": "00e60da4",
   "metadata": {},
   "outputs": [
    {
     "name": "stderr",
     "output_type": "stream",
     "text": [
      "                                                                                \r"
     ]
    },
    {
     "name": "stdout",
     "output_type": "stream",
     "text": [
      "Shape of data: (10000, 21)\n",
      "root\n",
      " |-- School_Year: string (nullable = true)\n",
      " |-- Busbreakdown_ID: string (nullable = true)\n",
      " |-- Run_Type: string (nullable = true)\n",
      " |-- Bus_No: string (nullable = true)\n",
      " |-- Route_Number: string (nullable = true)\n",
      " |-- Reason: string (nullable = true)\n",
      " |-- Schools_Serviced: string (nullable = true)\n",
      " |-- Occurred_On: string (nullable = true)\n",
      " |-- Created_On: string (nullable = true)\n",
      " |-- Boro: string (nullable = true)\n",
      " |-- Bus_Company_Name: string (nullable = true)\n",
      " |-- How_Long_Delayed: string (nullable = true)\n",
      " |-- Number_Of_Students_On_The_Bus: string (nullable = true)\n",
      " |-- Has_Contractor_Notified_Schools: string (nullable = true)\n",
      " |-- Has_Contractor_Notified_Parents: string (nullable = true)\n",
      " |-- Have_You_Alerted_OPT: string (nullable = true)\n",
      " |-- Informed_On: string (nullable = true)\n",
      " |-- Incident_Number: string (nullable = true)\n",
      " |-- Last_Updated_On: string (nullable = true)\n",
      " |-- Breakdown_or_Running_Late: string (nullable = true)\n",
      " |-- School_Age_or_PreK: string (nullable = true)\n",
      "\n"
     ]
    }
   ],
   "source": [
    "import findspark\n",
    "findspark.init('/home/ubuntu/spark-3.2.1-bin-hadoop2.7')\n",
    "import pyspark\n",
    "from pyspark.sql import SparkSession\n",
    "spark = SparkSession.builder.appName(\"BusBreakdowns\").getOrCreate()\n",
    "\n",
    "# Read the file \n",
    "file = \"sampled_data.csv\"\n",
    "df = spark.read.option(\"header\", \"true\").csv(file)\n",
    "\n",
    "print(f\"Shape of data: ({df.count()}, {len(df.columns)})\")\n",
    "df.printSchema()"
   ]
  },
  {
   "cell_type": "code",
   "execution_count": 5,
   "id": "7eeb5195",
   "metadata": {},
   "outputs": [
    {
     "name": "stderr",
     "output_type": "stream",
     "text": [
      "\r",
      "[Stage 4:===========================================================(1 + 0) / 1]\r"
     ]
    },
    {
     "name": "stdout",
     "output_type": "stream",
     "text": [
      "+-----------+---------------+--------+------+------------+------+----------------+-----------+----------+----+----------------+----------------+-----------------------------+-------------------------------+-------------------------------+--------------------+-----------+---------------+---------------+-------------------------+------------------+\n",
      "|School_Year|Busbreakdown_ID|Run_Type|Bus_No|Route_Number|Reason|Schools_Serviced|Occurred_On|Created_On|Boro|Bus_Company_Name|How_Long_Delayed|Number_Of_Students_On_The_Bus|Has_Contractor_Notified_Schools|Has_Contractor_Notified_Parents|Have_You_Alerted_OPT|Informed_On|Incident_Number|Last_Updated_On|Breakdown_or_Running_Late|School_Age_or_PreK|\n",
      "+-----------+---------------+--------+------+------------+------+----------------+-----------+----------+----+----------------+----------------+-----------------------------+-------------------------------+-------------------------------+--------------------+-----------+---------------+---------------+-------------------------+------------------+\n",
      "|          0|              0|       0|     0|           0|     0|               0|          0|         0|   2|               0|             755|                            0|                              0|                              0|                   0|          0|           9961|              0|                        0|                 0|\n",
      "+-----------+---------------+--------+------+------------+------+----------------+-----------+----------+----+----------------+----------------+-----------------------------+-------------------------------+-------------------------------+--------------------+-----------+---------------+---------------+-------------------------+------------------+\n",
      "\n"
     ]
    },
    {
     "name": "stderr",
     "output_type": "stream",
     "text": [
      "\r",
      "                                                                                \r"
     ]
    }
   ],
   "source": [
    "from pyspark.sql.functions import when, col\n",
    "missing_data = df.selectExpr([f'sum(if({c} is null, 1, 0)) as {c}' for c in df.columns])\n",
    "missing_data.show()"
   ]
  },
  {
   "cell_type": "code",
   "execution_count": 6,
   "id": "cd71cfae",
   "metadata": {},
   "outputs": [
    {
     "name": "stderr",
     "output_type": "stream",
     "text": [
      "                                                                                \r"
     ]
    },
    {
     "name": "stdout",
     "output_type": "stream",
     "text": [
      "+----------------+-----+\n",
      "|How_Long_Delayed|count|\n",
      "+----------------+-----+\n",
      "|        0-15 Min|  967|\n",
      "|       16-30 Min| 2599|\n",
      "|       31-45 Min| 3004|\n",
      "|       46-60 Min| 1732|\n",
      "|       61-90 Min|  943|\n",
      "+----------------+-----+\n",
      "\n",
      "+-----------+---------------+--------+------+------------+------+----------------+-----------+----------+----+----------------+----------------+-----------------------------+-------------------------------+-------------------------------+--------------------+-----------+---------------+---------------+-------------------------+------------------+\n",
      "|School_Year|Busbreakdown_ID|Run_Type|Bus_No|Route_Number|Reason|Schools_Serviced|Occurred_On|Created_On|Boro|Bus_Company_Name|How_Long_Delayed|Number_Of_Students_On_The_Bus|Has_Contractor_Notified_Schools|Has_Contractor_Notified_Parents|Have_You_Alerted_OPT|Informed_On|Incident_Number|Last_Updated_On|Breakdown_or_Running_Late|School_Age_or_PreK|\n",
      "+-----------+---------------+--------+------+------------+------+----------------+-----------+----------+----+----------------+----------------+-----------------------------+-------------------------------+-------------------------------+--------------------+-----------+---------------+---------------+-------------------------+------------------+\n",
      "|          0|              0|       0|     0|           0|     0|               0|          0|         0|   0|               0|               0|                            0|                              0|                              0|                   0|          0|           9207|              0|                        0|                 0|\n",
      "+-----------+---------------+--------+------+------------+------+----------------+-----------+----------+----+----------------+----------------+-----------------------------+-------------------------------+-------------------------------+--------------------+-----------+---------------+---------------+-------------------------+------------------+\n",
      "\n"
     ]
    }
   ],
   "source": [
    "from pyspark.sql.functions import when, col\n",
    "delay_time_category = ['16-30 Min', '31-45 Min', '0-15 Min', '46-60 Min', '61-90 Min']\n",
    "df = df.filter(df['How_Long_Delayed'].isin(delay_time_category)).withColumn(\"How_Long_Delayed\", when(\n",
    "    col(\"How_Long_Delayed\").isin(delay_time_category) | col(\"How_Long_Delayed\").isNotNull(), \n",
    "    col(\"How_Long_Delayed\")).otherwise(\"91-Inf Min\"))\n",
    "df.groupBy(\"How_Long_Delayed\").count().show()\n",
    "\n",
    "columns_to_drop_na = ['Run_Type', 'Reason', 'Boro', 'School_Age_or_PreK']\n",
    "df = df.dropna(subset=columns_to_drop_na)\n",
    "\n",
    "missing_data = df.selectExpr([f'sum(if({c} is null, 1, 0)) as {c}' for c in df.columns])\n",
    "missing_data.show()"
   ]
  },
  {
   "cell_type": "code",
   "execution_count": 7,
   "id": "fa045345",
   "metadata": {},
   "outputs": [
    {
     "name": "stdout",
     "output_type": "stream",
     "text": [
      "+-------+-----------------------------+\n",
      "|summary|Number_Of_Students_On_The_Bus|\n",
      "+-------+-----------------------------+\n",
      "|  count|                         9243|\n",
      "|   mean|           3.3417721518987342|\n",
      "| stddev|            97.23426454195086|\n",
      "|    min|                            0|\n",
      "|    max|                         9034|\n",
      "+-------+-----------------------------+\n",
      "\n"
     ]
    }
   ],
   "source": [
    "column_name = 'Number_Of_Students_On_The_Bus'\n",
    "df.select(column_name).describe().show()"
   ]
  },
  {
   "cell_type": "code",
   "execution_count": 8,
   "id": "b84376e2",
   "metadata": {},
   "outputs": [
    {
     "name": "stdout",
     "output_type": "stream",
     "text": [
      "+-------+-----------------------------+\n",
      "|summary|Number_Of_Students_On_The_Bus|\n",
      "+-------+-----------------------------+\n",
      "|  count|                         9243|\n",
      "|   mean|           3.3417721518987342|\n",
      "| stddev|            97.23426454195086|\n",
      "|    min|                            0|\n",
      "|    max|                         9034|\n",
      "+-------+-----------------------------+\n",
      "\n",
      "+-------+-----------------------------+\n",
      "|summary|Number_Of_Students_On_The_Bus|\n",
      "+-------+-----------------------------+\n",
      "|  count|                         9237|\n",
      "|   mean|           1.8448630507740609|\n",
      "| stddev|            3.701987116836907|\n",
      "|    min|                            0|\n",
      "|    max|                            9|\n",
      "+-------+-----------------------------+\n",
      "\n"
     ]
    }
   ],
   "source": [
    "column_name = 'Number_Of_Students_On_The_Bus'\n",
    "df.select(column_name).describe().show()\n",
    "df.filter(df[column_name]<100).select(column_name).describe().show()"
   ]
  },
  {
   "cell_type": "code",
   "execution_count": 11,
   "id": "c34370c9",
   "metadata": {},
   "outputs": [
    {
     "name": "stdout",
     "output_type": "stream",
     "text": [
      "+-------+-----------------------------+\n",
      "|summary|Number_Of_Students_On_The_Bus|\n",
      "+-------+-----------------------------+\n",
      "|  count|                         9201|\n",
      "|   mean|            1.732094337572003|\n",
      "| stddev|           3.1971218806600255|\n",
      "|    min|                            0|\n",
      "|    max|                            9|\n",
      "+-------+-----------------------------+\n",
      "\n"
     ]
    }
   ],
   "source": [
    "from pyspark.sql.window import Window\n",
    "from pyspark.sql import functions as F\n",
    "\n",
    "mean_value = df.agg({'Number_Of_Students_On_The_Bus': 'mean'}).collect()[0][0]\n",
    "stddev_value = df.agg({'Number_Of_Students_On_The_Bus': 'stddev'}).collect()[0][0]\n",
    "\n",
    "df = df.withColumn('z_scores', (df['Number_Of_Students_On_The_Bus'] - mean_value) / stddev_value)\n",
    "df = df.filter((df['Number_Of_Students_On_The_Bus'] < 100) & (df['z_scores'] < 5))\n",
    "df.select(column_name).describe().show()"
   ]
  },
  {
   "cell_type": "code",
   "execution_count": 12,
   "id": "8a177c81",
   "metadata": {},
   "outputs": [
    {
     "name": "stdout",
     "output_type": "stream",
     "text": [
      "+-------------------+---------------------+\n",
      "|        Occurred_On|Formatted_Occurred_On|\n",
      "+-------------------+---------------------+\n",
      "|2022-10-12 15:22:00| 10/12/2022 03:22:...|\n",
      "|2023-04-17 14:20:00| 04/17/2023 02:20:...|\n",
      "|2020-01-24 15:23:00| 01/24/2020 03:23:...|\n",
      "|2021-10-07 15:20:00| 10/07/2021 03:20:...|\n",
      "|2018-10-03 07:25:00| 10/03/2018 07:25:...|\n",
      "|2021-04-08 07:52:00| 04/08/2021 07:52:...|\n",
      "|2022-10-13 08:20:00| 10/13/2022 08:20:...|\n",
      "|2022-09-28 06:03:00| 09/28/2022 06:03:...|\n",
      "|2021-05-28 08:52:00| 05/28/2021 08:52:...|\n",
      "|2023-05-03 06:45:00| 05/03/2023 06:45:...|\n",
      "|2022-02-07 07:30:00| 02/07/2022 07:30:...|\n",
      "|2022-10-06 14:55:00| 10/06/2022 02:55:...|\n",
      "|2019-12-20 06:43:00| 12/20/2019 06:43:...|\n",
      "|2022-10-12 09:00:00| 10/12/2022 09:00:...|\n",
      "|2021-10-15 07:00:00| 10/15/2021 07:00:...|\n",
      "|2023-02-28 13:33:00| 02/28/2023 01:33:...|\n",
      "|2019-11-22 07:33:00| 11/22/2019 07:33:...|\n",
      "|2018-09-12 04:10:00| 09/12/2018 04:10:...|\n",
      "|2023-03-16 05:20:00| 03/16/2023 05:20:...|\n",
      "|2021-11-22 07:01:00| 11/22/2021 07:01:...|\n",
      "+-------------------+---------------------+\n",
      "only showing top 20 rows\n",
      "\n"
     ]
    }
   ],
   "source": [
    "from pyspark.sql.functions import to_timestamp\n",
    "from pyspark.sql.types import TimestampType\n",
    "from pyspark.sql.functions import date_format\n",
    "\n",
    "df = df.withColumn('Occurred_On', to_timestamp(df['Occurred_On'], 'MM/dd/yyyy hh:mm:ss a'))\n",
    "df = df.withColumn('Occurred_On', df['Occurred_On'].cast(TimestampType()))\n",
    "df.select('Occurred_On', date_format('Occurred_On', 'MM/dd/yyyy hh:mm:ss a').alias('Formatted_Occurred_On')).show()"
   ]
  },
  {
   "cell_type": "code",
   "execution_count": 13,
   "id": "04d66b09",
   "metadata": {},
   "outputs": [],
   "source": [
    "from pyspark.sql.functions import hour, dayofweek, month\n",
    "import matplotlib.pyplot as plt\n",
    "\n",
    "# Derive new columns\n",
    "df = df.withColumn(\"Occurred_On_Hour\", hour(\"Occurred_On\"))\n",
    "df = df.withColumn(\"Occurred_On_DayOfWeek\", (dayofweek(\"Occurred_On\") - 1).cast(\"integer\"))\n",
    "df = df.withColumn(\"Occurred_On_Month\", month(\"Occurred_On\"))"
   ]
  },
  {
   "cell_type": "code",
   "execution_count": 14,
   "id": "95283006",
   "metadata": {},
   "outputs": [
    {
     "name": "stdout",
     "output_type": "stream",
     "text": [
      "+----------------+-----+\n",
      "|Occurred_On_Hour|Count|\n",
      "+----------------+-----+\n",
      "|               0|   20|\n",
      "|               1|   11|\n",
      "|               2|   20|\n",
      "|               3|    8|\n",
      "|               4|    4|\n",
      "|               5|  355|\n",
      "|               6| 2839|\n",
      "|               7| 3132|\n",
      "|               8|  748|\n",
      "|               9|   62|\n",
      "|              10|   14|\n",
      "|              11|   21|\n",
      "|              12|   59|\n",
      "|              13|  799|\n",
      "|              14|  811|\n",
      "|              15|  244|\n",
      "|              16|   42|\n",
      "|              17|   12|\n",
      "+----------------+-----+\n",
      "\n"
     ]
    },
    {
     "data": {
      "image/png": "[encoded data removed]",
      "text/plain": [
       "<Figure size 432x288 with 1 Axes>"
      ]
     },
     "metadata": {
      "needs_background": "light"
     },
     "output_type": "display_data"
    },
    {
     "data": {
      "image/png": "[encoded data removed]",
      "text/plain": [
       "<Figure size 720x432 with 1 Axes>"
      ]
     },
     "metadata": {
      "needs_background": "light"
     },
     "output_type": "display_data"
    },
    {
     "name": "stdout",
     "output_type": "stream",
     "text": [
      "+---------------------+-----+\n",
      "|Occurred_On_DayOfWeek|Count|\n",
      "+---------------------+-----+\n",
      "|                    1| 1827|\n",
      "|                    2| 1862|\n",
      "|                    3| 1881|\n",
      "|                    4| 1869|\n",
      "|                    5| 1762|\n",
      "+---------------------+-----+\n",
      "\n"
     ]
    },
    {
     "data": {
      "image/png": "[encoded data removed]",
      "text/plain": [
       "<Figure size 432x288 with 1 Axes>"
      ]
     },
     "metadata": {
      "needs_background": "light"
     },
     "output_type": "display_data"
    },
    {
     "data": {
      "image/png": "[encoded data removed]",
      "text/plain": [
       "<Figure size 720x432 with 1 Axes>"
      ]
     },
     "metadata": {
      "needs_background": "light"
     },
     "output_type": "display_data"
    },
    {
     "name": "stdout",
     "output_type": "stream",
     "text": [
      "+-----------------+-----+\n",
      "|Occurred_On_Month|Count|\n",
      "+-----------------+-----+\n",
      "|                1| 1015|\n",
      "|                2|  861|\n",
      "|                3|  966|\n",
      "|                4|  634|\n",
      "|                5|  884|\n",
      "|                6|  489|\n",
      "|                9|  863|\n",
      "|               10| 1401|\n",
      "|               11| 1196|\n",
      "|               12|  892|\n",
      "+-----------------+-----+\n",
      "\n"
     ]
    },
    {
     "data": {
      "image/png": "[encoded data removed]",
      "text/plain": [
       "<Figure size 432x288 with 1 Axes>"
      ]
     },
     "metadata": {
      "needs_background": "light"
     },
     "output_type": "display_data"
    },
    {
     "data": {
      "image/png": "[encoded data removed]",
      "text/plain": [
       "<Figure size 720x432 with 1 Axes>"
      ]
     },
     "metadata": {
      "needs_background": "light"
     },
     "output_type": "display_data"
    }
   ],
   "source": [
    "# Visualize the data\n",
    "colname_time_new = ['Occurred_On_Hour', 'Occurred_On_DayOfWeek', 'Occurred_On_Month']\n",
    "df.createOrReplaceTempView(\"bus_data\")\n",
    "for item in colname_time_new:\n",
    "    result = spark.sql(f\"SELECT {item}, COUNT(*) AS Count FROM bus_data GROUP BY {item} ORDER BY {item}\")\n",
    "    result.show()\n",
    "    \n",
    "    data = result.toPandas()\n",
    "    data.plot(kind='bar', x=item, y='Count', legend=False)\n",
    "    plt.ylabel('Count')\n",
    "    plt.xlabel(item)\n",
    "    plt.xticks(rotation=0)\n",
    "    plt.show()\n",
    "    \n",
    "    data = df.groupBy(item, 'How_Long_Delayed').count().orderBy('How_Long_Delayed')\n",
    "    pivot_df = data.toPandas().pivot(index=item, columns='How_Long_Delayed', values='count')\n",
    "    pivot_df.plot(kind='bar', figsize=(10, 6))\n",
    "    plt.ylabel('Count')\n",
    "    plt.xlabel(item)\n",
    "    plt.xticks(rotation=15)\n",
    "    plt.title(f'Counts of {item} by How_Long_Delayed')\n",
    "    plt.show()"
   ]
  },
  {
   "cell_type": "code",
   "execution_count": 15,
   "id": "08139667",
   "metadata": {},
   "outputs": [
    {
     "name": "stdout",
     "output_type": "stream",
     "text": [
      "root\n",
      " |-- School_Year: string (nullable = true)\n",
      " |-- Run_Type: string (nullable = true)\n",
      " |-- Reason: string (nullable = true)\n",
      " |-- Boro: string (nullable = true)\n",
      " |-- Bus_Company_Name: string (nullable = true)\n",
      " |-- School_Age_or_PreK: string (nullable = true)\n",
      " |-- Number_Of_Students_On_The_Bus: integer (nullable = true)\n",
      " |-- Occurred_On_Hour: integer (nullable = true)\n",
      " |-- Occurred_On_Month: integer (nullable = true)\n",
      " |-- How_Long_Delayed: string (nullable = true)\n",
      " |-- Has_Contractor_Notified_Schools: string (nullable = true)\n",
      " |-- Has_Contractor_Notified_Parents: string (nullable = true)\n",
      " |-- Have_You_Alerted_OPT: string (nullable = true)\n",
      "\n"
     ]
    },
    {
     "name": "stderr",
     "output_type": "stream",
     "text": [
      "                                                                                \r"
     ]
    }
   ],
   "source": [
    "from pyspark.sql.types import IntegerType\n",
    "df = df.withColumn(\"Number_Of_Students_On_The_Bus\", df[\"Number_Of_Students_On_The_Bus\"].cast(IntegerType()))\n",
    "# Select specific columns\n",
    "selected_columns = ['School_Year', 'Run_Type', 'Reason', 'Boro', 'Bus_Company_Name',\n",
    "                    'School_Age_or_PreK', 'Number_Of_Students_On_The_Bus', 'Occurred_On_Hour',\n",
    "                    'Occurred_On_Month', 'How_Long_Delayed', 'Has_Contractor_Notified_Schools',\n",
    "                    'Has_Contractor_Notified_Parents', 'Have_You_Alerted_OPT']\n",
    "\n",
    "df = df.select(selected_columns)\n",
    "\n",
    "# Show DataFrame info\n",
    "df.printSchema()\n",
    "\n",
    "# Save the DataFrame to a CSV file\n",
    "df.write.csv('cleaned.csv', header=True, mode='overwrite')"
   ]
  },
  {
   "cell_type": "code",
   "execution_count": 27,
   "id": "daec891f",
   "metadata": {},
   "outputs": [],
   "source": [
    "import findspark\n",
    "findspark.init('/home/ubuntu/spark-3.2.1-bin-hadoop2.7')\n",
    "import pyspark\n",
    "from pyspark.sql import SparkSession\n",
    "spark = SparkSession.builder.appName(\"BusBreakdowns\").getOrCreate()\n",
    "\n",
    "# Read the file \n",
    "file = \"cleaned.csv\"\n",
    "df = spark.read.option(\"header\", \"true\").csv(file)"
   ]
  },
  {
   "cell_type": "code",
   "execution_count": 28,
   "id": "3b02bdea",
   "metadata": {},
   "outputs": [],
   "source": [
    "import numpy as np\n",
    "import matplotlib.pyplot as plt\n",
    "from pyspark.sql.functions import when, log\n",
    "from pyspark.sql.types import DoubleType\n",
    "from pyspark.sql import functions as F\n",
    "\n",
    "\n",
    "df = df.withColumn('How_Long_Delayed', when(df['How_Long_Delayed'] == '0-15 Min', 15)\n",
    "                                   .when(df['How_Long_Delayed'] == '16-30 Min', 30)\n",
    "                                   .when(df['How_Long_Delayed'] == '31-45 Min', 45)\n",
    "                                   .when(df['How_Long_Delayed'] == '46-60 Min', 60)\n",
    "                                   .when(df['How_Long_Delayed'] == '61-90 Min', 90)\n",
    "                                   .when(df['How_Long_Delayed'] == '91-Inf Min', 360)\n",
    "                                   .otherwise(df['How_Long_Delayed']).cast(DoubleType()))"
   ]
  },
  {
   "cell_type": "code",
   "execution_count": 9,
   "id": "277b400c",
   "metadata": {},
   "outputs": [
    {
     "name": "stdout",
     "output_type": "stream",
     "text": [
      "+-------+-----------------+\n",
      "|summary| How_Long_Delayed|\n",
      "+-------+-----------------+\n",
      "|  count|             9201|\n",
      "|   mean|45.08151287903489|\n",
      "| stddev|20.15116477737358|\n",
      "|    min|             15.0|\n",
      "|    max|             90.0|\n",
      "+-------+-----------------+\n",
      "\n"
     ]
    },
    {
     "data": {
      "image/png": "[encoded data removed]",
      "text/plain": [
       "<Figure size 576x432 with 1 Axes>"
      ]
     },
     "metadata": {
      "needs_background": "light"
     },
     "output_type": "display_data"
    }
   ],
   "source": [
    "df.select('How_Long_Delayed').describe().show()\n",
    "\n",
    "counts = df.groupBy('How_Long_Delayed').agg(F.count('*').alias('Count'))\n",
    "counts_pandas = counts.toPandas()\n",
    "plt.figure(figsize=(8, 6))\n",
    "plt.bar(counts_pandas['How_Long_Delayed'], counts_pandas['Count'])\n",
    "plt.ylabel('How_Long_Delayed')\n",
    "plt.title('Box Plot of How_Long_Delayed')\n",
    "plt.show()"
   ]
  },
  {
   "cell_type": "code",
   "execution_count": 4,
   "id": "9a75c5f2",
   "metadata": {},
   "outputs": [],
   "source": [
    "df = df.withColumn('How_Long_Delayed', log(df['How_Long_Delayed']))"
   ]
  },
  {
   "cell_type": "code",
   "execution_count": 11,
   "id": "5ae4e6a9",
   "metadata": {},
   "outputs": [
    {
     "name": "stdout",
     "output_type": "stream",
     "text": [
      "+-------+------------------+\n",
      "|summary|  How_Long_Delayed|\n",
      "+-------+------------------+\n",
      "|  count|              9201|\n",
      "|   mean| 3.703379906828375|\n",
      "| stddev|0.4749949512108136|\n",
      "|    min|  2.70805020110221|\n",
      "|    max| 4.499809670330265|\n",
      "+-------+------------------+\n",
      "\n"
     ]
    },
    {
     "data": {
      "image/png": "[encoded data removed]",
      "text/plain": [
       "<Figure size 576x432 with 1 Axes>"
      ]
     },
     "metadata": {
      "needs_background": "light"
     },
     "output_type": "display_data"
    }
   ],
   "source": [
    "df.select('How_Long_Delayed').describe().show()\n",
    "\n",
    "counts = df.groupBy('How_Long_Delayed').agg(F.count('*').alias('Count'))\n",
    "counts_pandas = counts.toPandas()\n",
    "plt.figure(figsize=(8, 6))\n",
    "plt.bar(counts_pandas['How_Long_Delayed'], counts_pandas['Count'])\n",
    "plt.ylabel('Logarithmic Transformed How_Long_Delayed')\n",
    "plt.title('Box Plot of Logarithmic Transformed How_Long_Delayed')\n",
    "plt.show()"
   ]
  },
  {
   "cell_type": "code",
   "execution_count": 5,
   "id": "e922d0e5",
   "metadata": {},
   "outputs": [
    {
     "name": "stderr",
     "output_type": "stream",
     "text": [
      "                                                                                \r"
     ]
    }
   ],
   "source": [
    "from pyspark.ml.feature import VectorAssembler\n",
    "from pyspark.ml.regression import LinearRegression\n",
    "from pyspark.ml.evaluation import RegressionEvaluator\n",
    "from pyspark.ml.feature import StringIndexer, OneHotEncoder\n",
    "from pyspark.sql import SparkSession\n",
    "\n",
    "# List of categorical columns\n",
    "categorical_columns = ['School_Year', 'Run_Type', 'Reason', 'Boro','Number_Of_Students_On_The_Bus', 'Occurred_On_Hour', 'Occurred_On_Month',\n",
    "                       'Bus_Company_Name', 'School_Age_or_PreK',\n",
    "                       'Has_Contractor_Notified_Schools', 'Has_Contractor_Notified_Parents',\n",
    "                       'Have_You_Alerted_OPT']\n",
    "\n",
    "stages = []\n",
    "\n",
    "for col in categorical_columns:\n",
    "    indexer = StringIndexer(inputCol=col, outputCol=col + \"_index\", handleInvalid=\"keep\")\n",
    "    encoder = OneHotEncoder(inputCol=col + \"_index\", outputCol=col + \"_encoded\")\n",
    "    stages += [indexer, encoder]\n",
    "\n",
    "from pyspark.ml import Pipeline\n",
    "\n",
    "pipeline = Pipeline(stages=stages)\n",
    "model = pipeline.fit(df)\n",
    "df = model.transform(df)"
   ]
  },
  {
   "cell_type": "code",
   "execution_count": 13,
   "id": "a6257dd0",
   "metadata": {},
   "outputs": [
    {
     "name": "stderr",
     "output_type": "stream",
     "text": [
      "23/10/12 17:53:45 WARN Instrumentation: [4111d975] regParam is zero, which might cause numerical instability and overfitting.\n",
      "23/10/12 17:53:47 WARN InstanceBuilder$NativeBLAS: Failed to load implementation from:dev.ludovic.netlib.blas.JNIBLAS\n",
      "23/10/12 17:53:47 WARN InstanceBuilder$NativeBLAS: Failed to load implementation from:dev.ludovic.netlib.blas.ForeignLinkerBLAS\n",
      "23/10/12 17:53:47 WARN InstanceBuilder$NativeLAPACK: Failed to load implementation from:dev.ludovic.netlib.lapack.JNILAPACK\n",
      "23/10/12 17:53:47 WARN Instrumentation: [4111d975] Cholesky solver failed due to singular covariance matrix. Retrying with Quasi-Newton solver.\n",
      "                                                                                \r"
     ]
    },
    {
     "name": "stdout",
     "output_type": "stream",
     "text": [
      "Model for group 1 features:\n",
      "Root Mean Squared Error (RMSE): 0.455825014899164\n",
      "R-squared (R2): 0.07898749660487492\n",
      "\n"
     ]
    },
    {
     "name": "stderr",
     "output_type": "stream",
     "text": [
      "23/10/12 17:53:51 WARN Instrumentation: [ab7efe63] regParam is zero, which might cause numerical instability and overfitting.\n",
      "23/10/12 17:53:51 WARN Instrumentation: [ab7efe63] Cholesky solver failed due to singular covariance matrix. Retrying with Quasi-Newton solver.\n"
     ]
    },
    {
     "name": "stdout",
     "output_type": "stream",
     "text": [
      "Model for group 2 features:\n",
      "Root Mean Squared Error (RMSE): 0.3472469367823476\n",
      "R-squared (R2): 0.4655020263741063\n",
      "\n"
     ]
    },
    {
     "name": "stderr",
     "output_type": "stream",
     "text": [
      "23/10/12 17:53:53 WARN Instrumentation: [2554234c] regParam is zero, which might cause numerical instability and overfitting.\n",
      "23/10/12 17:53:54 WARN Instrumentation: [2554234c] Cholesky solver failed due to singular covariance matrix. Retrying with Quasi-Newton solver.\n",
      "[Stage 71:>                                                         (0 + 1) / 1]\r"
     ]
    },
    {
     "name": "stdout",
     "output_type": "stream",
     "text": [
      "Model for group 3 features:\n",
      "Root Mean Squared Error (RMSE): 0.46754756874053943\n",
      "R-squared (R2): 0.031006592396392807\n",
      "\n"
     ]
    },
    {
     "name": "stderr",
     "output_type": "stream",
     "text": [
      "\r",
      "                                                                                \r"
     ]
    }
   ],
   "source": [
    "# Define the target column\n",
    "target_column = 'How_Long_Delayed'\n",
    "\n",
    "# Define a list of groups of features\n",
    "feature_groups = [\n",
    "    ['School_Year_encoded', 'Number_Of_Students_On_The_Bus_encoded', 'Occurred_On_Hour_encoded', 'Occurred_On_Month_encoded'],\n",
    "    ['Run_Type_encoded', 'Reason_encoded', 'Boro_encoded', 'Bus_Company_Name_encoded'],\n",
    "    ['School_Age_or_PreK_encoded', 'Has_Contractor_Notified_Schools_encoded', 'Has_Contractor_Notified_Parents_encoded', 'Have_You_Alerted_OPT_encoded']\n",
    "]\n",
    "\n",
    "for i, group in enumerate(feature_groups):\n",
    "    sub_df = df.select(group + [target_column])\n",
    "\n",
    "    feature_assembler = VectorAssembler(inputCols=group, outputCol=\"features\")\n",
    "    sub_df = feature_assembler.transform(sub_df)\n",
    "\n",
    "    lr = LinearRegression(featuresCol=\"features\", labelCol=target_column)\n",
    "    lr_model = lr.fit(sub_df)\n",
    "\n",
    "    evaluator = RegressionEvaluator(labelCol=target_column, predictionCol=\"prediction\", metricName=\"rmse\")\n",
    "    rmse = evaluator.evaluate(lr_model.transform(sub_df))\n",
    "    r2 = evaluator.evaluate(lr_model.transform(sub_df), {evaluator.metricName: \"r2\"})\n",
    "\n",
    "    print(f\"Model for group {i + 1} features:\")\n",
    "    print(f\"Root Mean Squared Error (RMSE): {rmse}\")\n",
    "    print(f\"R-squared (R2): {r2}\\n\")  "
   ]
  },
  {
   "cell_type": "code",
   "execution_count": 6,
   "id": "a9013f64",
   "metadata": {},
   "outputs": [
    {
     "name": "stdout",
     "output_type": "stream",
     "text": [
      "root\n",
      " |-- Run_Type_encoded: vector (nullable = true)\n",
      " |-- Reason_encoded: vector (nullable = true)\n",
      " |-- Boro_encoded: vector (nullable = true)\n",
      " |-- Bus_Company_Name_encoded: vector (nullable = true)\n",
      " |-- How_Long_Delayed: double (nullable = true)\n",
      " |-- features: vector (nullable = true)\n",
      "\n",
      "+----------------+--------------+--------------+------------------------+------------------+--------------------+\n",
      "|Run_Type_encoded|Reason_encoded|  Boro_encoded|Bus_Company_Name_encoded|  How_Long_Delayed|            features|\n",
      "+----------------+--------------+--------------+------------------------+------------------+--------------------+\n",
      "|   (8,[1],[1.0])|(10,[0],[1.0])|(11,[4],[1.0])|          (64,[1],[1.0])|3.8066624897703196|(93,[1,8,22,30],[...|\n",
      "|   (8,[4],[1.0])|(10,[1],[1.0])|(11,[2],[1.0])|         (64,[25],[1.0])|   4.0943445622221|(93,[4,9,20,54],[...|\n",
      "|   (8,[4],[1.0])|(10,[0],[1.0])|(11,[2],[1.0])|          (64,[1],[1.0])|  2.70805020110221|(93,[4,8,20,30],[...|\n",
      "|   (8,[3],[1.0])|(10,[1],[1.0])|(11,[1],[1.0])|         (64,[11],[1.0])| 4.499809670330265|(93,[3,9,19,40],[...|\n",
      "|   (8,[0],[1.0])|(10,[0],[1.0])|(11,[0],[1.0])|          (64,[0],[1.0])|   4.0943445622221|(93,[0,8,18,29],[...|\n",
      "|   (8,[0],[1.0])|(10,[0],[1.0])|(11,[2],[1.0])|         (64,[22],[1.0])|3.4011973816621555|(93,[0,8,20,51],[...|\n",
      "|   (8,[0],[1.0])|(10,[0],[1.0])|(11,[0],[1.0])|          (64,[0],[1.0])| 4.499809670330265|(93,[0,8,18,29],[...|\n",
      "|   (8,[0],[1.0])|(10,[0],[1.0])|(11,[1],[1.0])|          (64,[6],[1.0])|3.8066624897703196|(93,[0,8,19,35],[...|\n",
      "|   (8,[0],[1.0])|(10,[0],[1.0])|(11,[1],[1.0])|         (64,[23],[1.0])|3.4011973816621555|(93,[0,8,19,52],[...|\n",
      "|   (8,[0],[1.0])|(10,[0],[1.0])|(11,[1],[1.0])|         (64,[10],[1.0])|3.4011973816621555|(93,[0,8,19,39],[...|\n",
      "|   (8,[2],[1.0])|(10,[0],[1.0])|(11,[4],[1.0])|          (64,[1],[1.0])|3.8066624897703196|(93,[2,8,22,30],[...|\n",
      "|   (8,[1],[1.0])|(10,[0],[1.0])|(11,[6],[1.0])|          (64,[7],[1.0])|3.4011973816621555|(93,[1,8,24,36],[...|\n",
      "|   (8,[0],[1.0])|(10,[0],[1.0])|(11,[1],[1.0])|         (64,[20],[1.0])|3.4011973816621555|(93,[0,8,19,49],[...|\n",
      "|   (8,[2],[1.0])|(10,[8],[1.0])|(11,[2],[1.0])|         (64,[25],[1.0])|3.4011973816621555|(93,[2,16,20,54],...|\n",
      "|   (8,[0],[1.0])|(10,[0],[1.0])|(11,[2],[1.0])|         (64,[19],[1.0])|  2.70805020110221|(93,[0,8,20,48],[...|\n",
      "|   (8,[1],[1.0])|(10,[1],[1.0])|(11,[3],[1.0])|         (64,[16],[1.0])| 4.499809670330265|(93,[1,9,21,45],[...|\n",
      "|   (8,[0],[1.0])|(10,[0],[1.0])|(11,[0],[1.0])|          (64,[0],[1.0])|3.8066624897703196|(93,[0,8,18,29],[...|\n",
      "|   (8,[2],[1.0])|(10,[0],[1.0])|(11,[2],[1.0])|         (64,[37],[1.0])|3.8066624897703196|(93,[2,8,20,66],[...|\n",
      "|   (8,[0],[1.0])|(10,[0],[1.0])|(11,[1],[1.0])|          (64,[4],[1.0])| 4.499809670330265|(93,[0,8,19,33],[...|\n",
      "|   (8,[0],[1.0])|(10,[0],[1.0])|(11,[2],[1.0])|          (64,[4],[1.0])|3.8066624897703196|(93,[0,8,20,33],[...|\n",
      "+----------------+--------------+--------------+------------------------+------------------+--------------------+\n",
      "only showing top 20 rows\n",
      "\n"
     ]
    }
   ],
   "source": [
    "target_column = 'How_Long_Delayed'\n",
    "\n",
    "group = ['Run_Type_encoded', 'Reason_encoded', 'Boro_encoded', 'Bus_Company_Name_encoded']\n",
    "    \n",
    "\n",
    "sub_df = df.select(group + [target_column])\n",
    "feature_assembler = VectorAssembler(inputCols=group, outputCol=\"features\")\n",
    "sub_df = feature_assembler.transform(sub_df)\n",
    "\n",
    "sub_df.printSchema()\n",
    "sub_df.show()"
   ]
  },
  {
   "cell_type": "code",
   "execution_count": 24,
   "id": "7b152067",
   "metadata": {},
   "outputs": [
    {
     "name": "stdout",
     "output_type": "stream",
     "text": [
      "+--------------------+----------------+\n",
      "|            Run_Type|Run_Type_encoded|\n",
      "+--------------------+----------------+\n",
      "|   General Ed AM Run|   (8,[2],[1.0])|\n",
      "|General Ed Field ...|   (8,[5],[1.0])|\n",
      "|            Pre-K/EI|   (8,[3],[1.0])|\n",
      "|Special Ed Field ...|   (8,[6],[1.0])|\n",
      "|   General Ed PM Run|   (8,[4],[1.0])|\n",
      "|   Special Ed PM Run|   (8,[1],[1.0])|\n",
      "| Project Read PM Run|   (8,[7],[1.0])|\n",
      "|   Special Ed AM Run|   (8,[0],[1.0])|\n",
      "+--------------------+----------------+\n",
      "\n"
     ]
    }
   ],
   "source": [
    "df.select('Run_Type','Run_Type_encoded').distinct().show()"
   ]
  },
  {
   "cell_type": "code",
   "execution_count": 25,
   "id": "787db6c2",
   "metadata": {},
   "outputs": [
    {
     "name": "stderr",
     "output_type": "stream",
     "text": [
      "23/10/12 19:36:06 WARN Instrumentation: [5a25564c] regParam is zero, which might cause numerical instability and overfitting.\n",
      "23/10/12 19:36:07 WARN Instrumentation: [5a25564c] Cholesky solver failed due to singular covariance matrix. Retrying with Quasi-Newton solver.\n"
     ]
    },
    {
     "name": "stdout",
     "output_type": "stream",
     "text": [
      "Coefficients: [0.01686754122593548,-0.0011958487775275085,-0.06895704402694795,0.030502902069591737,-0.02352522998725408,0.12568265399850712,0.08912838857503205,-0.06529623493674518,-0.10700306581166329,0.06284300643228198,0.13178711732716095,0.08741999194334593,-0.060951356446665175,0.01128790750517912,0.10174325375188208,0.16285318214834812,0.3590800632946508,-0.027511863807429048,-0.0011050692457408066,-0.01361152554684809,-0.11724021893580336,0.008980748546527029,0.4838056726169224,0.004350127355022493,-0.0702538268776614,-0.012947073025969267,0.0727787110078322,0.1683186095633346,-0.13537639814122424,0.2833573126423967,-0.3286909102690554,0.09109131575519203,-0.13207311618336284,0.4587066927725497,-0.6144460301074904,0.1184032700252837,-0.4035805307753427,-0.07596497524722597,-0.1981339103991322,-0.2363488745823,-0.029986232181148764,-0.26250369039146393,0.34604218982625584,-0.2093343932540896,0.9277903575127866,0.35423766774233967,-0.0059525409372933515,-0.030815089842799053,-0.29945737054011695,-0.042978018154548055,0.28652484662859645,0.25124594082884316,-0.38685325843301394,-0.045421374492359286,0.05441186093328223,-0.40411237527933763,0.3737611107234599,0.00420133245380291,-0.6105507114046583,0.04109979045473663,0.2783177879277368,0.176793458037941,-0.18258943713670217,-0.3373132548647115,-0.005235604137291011,0.1816658521361463,0.0735652187621019,-0.3391648239993138,-0.16558568072284113,-0.09890527898320847,-0.3974065705604061,-0.015920068538162416,-0.05917332419199734,-0.285932722471153,0.17456163526413399,-0.16545315968620922,0.19537200950068181,-0.05888476952751494,0.27198487412104133,-0.2606353734674769,-0.061928923225779926,-1.0957621344948847,0.3309511508407907,-0.35616716836189416,0.45546641060508636,-0.3013863925291052,-0.3296327302149351,0.0,-0.14768759934935302,0.6910854565571568,0.1677843374723379,0.37561351973546464,-0.31753366246521714]\n",
      "\n",
      "\n",
      "Intercept:3.7426252766080164\n",
      "+-------------------+\n",
      "|          residuals|\n",
      "+-------------------+\n",
      "|-1.2266917943167344|\n",
      "|-1.2266917943167344|\n",
      "|-1.2266917943167344|\n",
      "|-1.2266917943167344|\n",
      "| -0.533544613756789|\n",
      "| -0.533544613756789|\n",
      "| -0.533544613756789|\n",
      "| -0.533544613756789|\n",
      "| -0.533544613756789|\n",
      "| -0.533544613756789|\n",
      "| -0.533544613756789|\n",
      "| -0.533544613756789|\n",
      "| -0.533544613756789|\n",
      "| -0.533544613756789|\n",
      "| -0.533544613756789|\n",
      "| -0.533544613756789|\n",
      "| -0.533544613756789|\n",
      "| -0.533544613756789|\n",
      "| -0.533544613756789|\n",
      "| -0.533544613756789|\n",
      "+-------------------+\n",
      "only showing top 20 rows\n",
      "\n",
      "RMSE: 0.3469983654519293\n",
      "r2: 0.46954731675095673\n"
     ]
    }
   ],
   "source": [
    "from pyspark.ml.regression import GeneralizedLinearRegression\n",
    "from pyspark.sql.functions import col\n",
    "\n",
    "training, test = sub_df.randomSplit([0.7, 0.3])\n",
    "\n",
    "lr = LinearRegression(featuresCol='features', labelCol='How_Long_Delayed', predictionCol='prediction')\n",
    "\n",
    "# Fit themodel\n",
    "lrModel = lr.fit(training)\n",
    "\n",
    "\n",
    "print(\"Coefficients: {}\".format(str(lrModel.coefficients))) \n",
    "print('\\n')\n",
    "print(\"Intercept:{}\".format(str(lrModel.intercept)))\n",
    "\n",
    "trainingSummary = lrModel.summary\n",
    "trainingSummary.residuals.show()\n",
    "\n",
    "# Print Root Mean Squared Error. \n",
    "print(\"RMSE: {}\".format(trainingSummary.rootMeanSquaredError))\n",
    "\n",
    "# Print R-Squared.\n",
    "print(\"r2: {}\".format(trainingSummary.r2))"
   ]
  },
  {
   "cell_type": "code",
   "execution_count": 9,
   "id": "0e39626c",
   "metadata": {},
   "outputs": [
    {
     "name": "stdout",
     "output_type": "stream",
     "text": [
      "Feature: Run_Type_encoded\n",
      "P-value: 0.007775680841645354\n",
      "\n",
      "Feature: Reason_encoded\n",
      "P-value: 0.009664343370718082\n",
      "\n",
      "Feature: Boro_encoded\n",
      "P-value: 0.011410271496121985\n",
      "\n",
      "Feature: Bus_Company_Name_encoded\n",
      "P-value: 0.012730706743041368\n",
      "\n"
     ]
    }
   ],
   "source": [
    "from pyspark.ml.regression import GeneralizedLinearRegression\n",
    "from pyspark.sql.functions import col\n",
    "\n",
    "\n",
    "# Select columns for the GLM model\n",
    "glm_data = df.select(group)\n",
    "\n",
    "# Create a GLM model\n",
    "glm = GeneralizedLinearRegression(\n",
    "    featuresCol=\"features\",\n",
    "    labelCol=\"How_Long_Delayed\",\n",
    "    family=\"gaussian\",\n",
    "    link=\"identity\",\n",
    "    maxIter=10,\n",
    "    regParam=0.3\n",
    ")\n",
    "\n",
    "# Fit the GLM model\n",
    "glm_model = glm.fit(sub_df)\n",
    "\n",
    "# View the summary of the GLM model\n",
    "summary = glm_model.summary\n",
    "\n",
    "# Get the coefficients and p-values for each feature\n",
    "p_values = summary.coefficientStandardErrors\n",
    "\n",
    "\n",
    "# Display coefficients and p-values\n",
    "for feature,  p_value in zip(group,  p_values):\n",
    "    print(f\"Feature: {feature}\")\n",
    "    print(f\"P-value: {p_value}\\n\")\n"
   ]
  },
  {
   "cell_type": "code",
   "execution_count": 12,
   "id": "237ebdf7",
   "metadata": {},
   "outputs": [
    {
     "name": "stderr",
     "output_type": "stream",
     "text": [
      "                                                                                \r"
     ]
    },
    {
     "name": "stdout",
     "output_type": "stream",
     "text": [
      "Root Mean Squared Error (RMSE): 0.3978081599896161\n",
      "R-squared (R2): 0.31514242188297126\n"
     ]
    }
   ],
   "source": [
    "from pyspark.ml.regression import DecisionTreeRegressor\n",
    "from pyspark.ml.evaluation import RegressionEvaluator\n",
    "\n",
    "train_data, test_data = sub_df.randomSplit([0.7, 0.3])\n",
    "dt = DecisionTreeRegressor(featuresCol=\"features\", labelCol=\"How_Long_Delayed\")\n",
    "dt_model = dt.fit(train_data)\n",
    "predictions = dt_model.transform(test_data)\n",
    "evaluator = RegressionEvaluator(labelCol=target_column, predictionCol=\"prediction\", metricName=\"rmse\")\n",
    "rmse = evaluator.evaluate(predictions)\n",
    "r2 = evaluator.evaluate(predictions, {evaluator.metricName: \"r2\"})\n",
    "\n",
    "print(f\"Root Mean Squared Error (RMSE): {rmse}\")\n",
    "print(f\"R-squared (R2): {r2}\")\n"
   ]
  },
  {
   "cell_type": "code",
   "execution_count": 13,
   "id": "8f2334c8",
   "metadata": {},
   "outputs": [
    {
     "name": "stdout",
     "output_type": "stream",
     "text": [
      "Feature: Run_Type_encoded, Importance: 0.003231527818529632\n",
      "Feature: Reason_encoded, Importance: 0.0005459857890047265\n",
      "Feature: Boro_encoded, Importance: 0.0\n",
      "Feature: Bus_Company_Name_encoded, Importance: 0.0\n",
      "Feature: How_Long_Delayed, Importance: 0.0\n"
     ]
    }
   ],
   "source": [
    "feature_importances = dt_model.featureImportances\n",
    "feature_names = train_data.columns[:-1]  # Exclude the target column\n",
    "importance_scores = feature_importances.toArray().tolist()\n",
    "\n",
    "feature_importance_list = [(feature, importance) for feature, importance in zip(feature_names, importance_scores)]\n",
    "\n",
    "# Sort the features by importance (optional)\n",
    "feature_importance_list = sorted(feature_importance_list, key=lambda x: x[1], reverse=True)\n",
    "\n",
    "for feature, importance in feature_importance_list:\n",
    "    print(f\"Feature: {feature}, Importance: {importance}\")\n"
   ]
  },
  {
   "cell_type": "code",
   "execution_count": 29,
   "id": "f3d837ec",
   "metadata": {},
   "outputs": [],
   "source": [
    "import findspark\n",
    "findspark.init('/home/ubuntu/spark-3.2.1-bin-hadoop2.7')\n",
    "import pyspark\n",
    "from pyspark.sql import SparkSession\n",
    "spark = SparkSession.builder.appName(\"BusBreakdowns\").getOrCreate()\n",
    "\n",
    "# Read the file \n",
    "file = \"cleaned.csv\"\n",
    "df = spark.read.option(\"header\", \"true\").csv(file)"
   ]
  },
  {
   "cell_type": "code",
   "execution_count": 32,
   "id": "8e8b564f",
   "metadata": {},
   "outputs": [
    {
     "name": "stdout",
     "output_type": "stream",
     "text": [
      "+-----+------------------+\n",
      "|label|          features|\n",
      "+-----+------------------+\n",
      "|  0.0| [1.0,0.0,4.0,1.0]|\n",
      "|  1.0|[4.0,1.0,2.0,25.0]|\n",
      "|  0.0| [4.0,0.0,2.0,1.0]|\n",
      "|  1.0|[3.0,1.0,1.0,11.0]|\n",
      "|  1.0|         (4,[],[])|\n",
      "|  0.0|[0.0,0.0,2.0,22.0]|\n",
      "|  1.0|         (4,[],[])|\n",
      "|  0.0| [0.0,0.0,1.0,6.0]|\n",
      "|  0.0|[0.0,0.0,1.0,23.0]|\n",
      "|  0.0|[0.0,0.0,1.0,10.0]|\n",
      "|  0.0| [2.0,0.0,4.0,1.0]|\n",
      "|  0.0| [1.0,0.0,6.0,7.0]|\n",
      "|  0.0|[0.0,0.0,1.0,20.0]|\n",
      "|  0.0|[2.0,8.0,2.0,25.0]|\n",
      "|  0.0|[0.0,0.0,2.0,19.0]|\n",
      "|  1.0|[1.0,1.0,3.0,16.0]|\n",
      "|  0.0|         (4,[],[])|\n",
      "|  0.0|[2.0,0.0,2.0,37.0]|\n",
      "|  1.0| [0.0,0.0,1.0,4.0]|\n",
      "|  0.0| [0.0,0.0,2.0,4.0]|\n",
      "+-----+------------------+\n",
      "only showing top 20 rows\n",
      "\n"
     ]
    }
   ],
   "source": [
    "from pyspark.ml.feature import StringIndexer, VectorAssembler\n",
    "from pyspark.ml import Pipeline\n",
    "from pyspark.ml.feature import VectorAssembler, MinMaxScaler\n",
    "\n",
    "target_column = 'How_Long_Delayed'\n",
    "group = ['Run_Type_encoded', 'Reason_encoded', 'Boro_encoded', 'Bus_Company_Name_encoded']\n",
    "\n",
    "df = df.withColumn('How_Long_Delayed', when(df['How_Long_Delayed'] > 45, 1)\n",
    "                                  .when(df['How_Long_Delayed'] <= 45, 0))\n",
    "\n",
    "# Create StringIndexers for categorical predictor variables\n",
    "Run_Type_indexer = StringIndexer(inputCol=\"Run_Type\", outputCol=\"Run_Type_index\")\n",
    "Reason_indexer = StringIndexer(inputCol=\"Reason\", outputCol=\"Reason_index\")\n",
    "Boro_indexer = StringIndexer(inputCol=\"Boro\", outputCol=\"Boro_index\")\n",
    "Bus_Company_Name_indexer = StringIndexer(inputCol=\"Bus_Company_Name\", outputCol=\"Bus_Company_Name_index\")\n",
    "\n",
    "# Create a StringIndexer for the target variable\n",
    "target_indexer = StringIndexer(inputCol=\"How_Long_Delayed\", outputCol=\"label\")\n",
    "\n",
    "# Assemble the predictor variables into a single features column\n",
    "assembler = VectorAssembler(\n",
    "    inputCols=[\"Run_Type_index\",\"Reason_index\", \"Boro_index\",\"Bus_Company_Name_index\"],\n",
    "    outputCol=\"features\"\n",
    ")\n",
    "\n",
    "# Define a pipeline to execute the transformations\n",
    "pipeline = Pipeline(stages=[Run_Type_indexer, Reason_indexer, Boro_indexer, Bus_Company_Name_indexer, target_indexer, assembler])\n",
    "\n",
    "# Fit and transform the data using the pipeline\n",
    "model = pipeline.fit(df)\n",
    "data = model.transform(df)\n",
    "\n",
    "\n",
    "final_df = data.select(\"label\", \"features\")\n",
    "final_df.show()"
   ]
  },
  {
   "cell_type": "code",
   "execution_count": 33,
   "id": "2fde74a1",
   "metadata": {},
   "outputs": [
    {
     "name": "stderr",
     "output_type": "stream",
     "text": [
      "23/10/12 21:15:22 WARN BlockManager: Asked to remove block broadcast_659, which does not exist\n",
      "                                                                                \r"
     ]
    },
    {
     "name": "stdout",
     "output_type": "stream",
     "text": [
      "Support Vector Machines AUC: 0.5644765204617671\n",
      "Support Vector Machines Accuracy: 0.7072727272727273\n"
     ]
    },
    {
     "name": "stderr",
     "output_type": "stream",
     "text": [
      "[Stage 622:>                                                        (0 + 1) / 1]\r"
     ]
    },
    {
     "name": "stdout",
     "output_type": "stream",
     "text": [
      "LogisticRegression AUC: 0.5668980823580129\n",
      "LogisticRegression Accuracy: 0.7065454545454546\n"
     ]
    },
    {
     "name": "stderr",
     "output_type": "stream",
     "text": [
      "\r",
      "[Stage 623:>                                                        (0 + 1) / 1]\r",
      "\r",
      "                                                                                \r"
     ]
    }
   ],
   "source": [
    "from pyspark.ml.classification import RandomForestClassifier, GBTClassifier, LinearSVC,LogisticRegression\n",
    "from pyspark.ml.evaluation import BinaryClassificationEvaluator, MulticlassClassificationEvaluator\n",
    "\n",
    "# Split the data into training and testing sets\n",
    "train_data, test_data = final_df.randomSplit([0.7, 0.3])\n",
    "\n",
    "# List of models\n",
    "models = {\n",
    "    \"Support Vector Machines\": LinearSVC(featuresCol=\"features\", labelCol=\"label\"),\n",
    "    \"LogisticRegression\": LogisticRegression(featuresCol=\"features\", labelCol=\"label\")\n",
    "}\n",
    "\n",
    "# Train and evaluate each model\n",
    "for model_name, model in models.items():\n",
    "    trained_model = model.fit(train_data)\n",
    "    predictions = trained_model.transform(test_data)\n",
    "    \n",
    "   # Calculate AUC\n",
    "    binary_evaluator = BinaryClassificationEvaluator()\n",
    "    auc = binary_evaluator.evaluate(predictions)\n",
    "    \n",
    "    # Calculate Accuracy\n",
    "    multiclass_evaluator = MulticlassClassificationEvaluator(labelCol=\"label\", predictionCol=\"prediction\", metricName=\"accuracy\")\n",
    "    accuracy = multiclass_evaluator.evaluate(predictions)\n",
    "    \n",
    "    print(f\"{model_name} AUC: {auc}\")\n",
    "    print(f\"{model_name} Accuracy: {accuracy}\")"
   ]
  },
  {
   "cell_type": "code",
   "execution_count": 7,
   "id": "41ad7910",
   "metadata": {},
   "outputs": [
    {
     "name": "stdout",
     "output_type": "stream",
     "text": [
      "+----------------+--------------+--------------+------------------------+------------------+--------------------+\n",
      "|Run_Type_encoded|Reason_encoded|  Boro_encoded|Bus_Company_Name_encoded|  How_Long_Delayed|            features|\n",
      "+----------------+--------------+--------------+------------------------+------------------+--------------------+\n",
      "|   (8,[1],[1.0])|(10,[0],[1.0])|(11,[4],[1.0])|          (64,[1],[1.0])|3.8066624897703196|(93,[1,8,22,30],[...|\n",
      "|   (8,[4],[1.0])|(10,[1],[1.0])|(11,[2],[1.0])|         (64,[25],[1.0])|   4.0943445622221|(93,[4,9,20,54],[...|\n",
      "|   (8,[4],[1.0])|(10,[0],[1.0])|(11,[2],[1.0])|          (64,[1],[1.0])|  2.70805020110221|(93,[4,8,20,30],[...|\n",
      "|   (8,[3],[1.0])|(10,[1],[1.0])|(11,[1],[1.0])|         (64,[11],[1.0])| 4.499809670330265|(93,[3,9,19,40],[...|\n",
      "|   (8,[0],[1.0])|(10,[0],[1.0])|(11,[0],[1.0])|          (64,[0],[1.0])|   4.0943445622221|(93,[0,8,18,29],[...|\n",
      "|   (8,[0],[1.0])|(10,[0],[1.0])|(11,[2],[1.0])|         (64,[22],[1.0])|3.4011973816621555|(93,[0,8,20,51],[...|\n",
      "|   (8,[0],[1.0])|(10,[0],[1.0])|(11,[0],[1.0])|          (64,[0],[1.0])| 4.499809670330265|(93,[0,8,18,29],[...|\n",
      "|   (8,[0],[1.0])|(10,[0],[1.0])|(11,[1],[1.0])|          (64,[6],[1.0])|3.8066624897703196|(93,[0,8,19,35],[...|\n",
      "|   (8,[0],[1.0])|(10,[0],[1.0])|(11,[1],[1.0])|         (64,[23],[1.0])|3.4011973816621555|(93,[0,8,19,52],[...|\n",
      "|   (8,[0],[1.0])|(10,[0],[1.0])|(11,[1],[1.0])|         (64,[10],[1.0])|3.4011973816621555|(93,[0,8,19,39],[...|\n",
      "|   (8,[2],[1.0])|(10,[0],[1.0])|(11,[4],[1.0])|          (64,[1],[1.0])|3.8066624897703196|(93,[2,8,22,30],[...|\n",
      "|   (8,[1],[1.0])|(10,[0],[1.0])|(11,[6],[1.0])|          (64,[7],[1.0])|3.4011973816621555|(93,[1,8,24,36],[...|\n",
      "|   (8,[0],[1.0])|(10,[0],[1.0])|(11,[1],[1.0])|         (64,[20],[1.0])|3.4011973816621555|(93,[0,8,19,49],[...|\n",
      "|   (8,[2],[1.0])|(10,[8],[1.0])|(11,[2],[1.0])|         (64,[25],[1.0])|3.4011973816621555|(93,[2,16,20,54],...|\n",
      "|   (8,[0],[1.0])|(10,[0],[1.0])|(11,[2],[1.0])|         (64,[19],[1.0])|  2.70805020110221|(93,[0,8,20,48],[...|\n",
      "|   (8,[1],[1.0])|(10,[1],[1.0])|(11,[3],[1.0])|         (64,[16],[1.0])| 4.499809670330265|(93,[1,9,21,45],[...|\n",
      "|   (8,[0],[1.0])|(10,[0],[1.0])|(11,[0],[1.0])|          (64,[0],[1.0])|3.8066624897703196|(93,[0,8,18,29],[...|\n",
      "|   (8,[2],[1.0])|(10,[0],[1.0])|(11,[2],[1.0])|         (64,[37],[1.0])|3.8066624897703196|(93,[2,8,20,66],[...|\n",
      "|   (8,[0],[1.0])|(10,[0],[1.0])|(11,[1],[1.0])|          (64,[4],[1.0])| 4.499809670330265|(93,[0,8,19,33],[...|\n",
      "|   (8,[0],[1.0])|(10,[0],[1.0])|(11,[2],[1.0])|          (64,[4],[1.0])|3.8066624897703196|(93,[0,8,20,33],[...|\n",
      "+----------------+--------------+--------------+------------------------+------------------+--------------------+\n",
      "only showing top 20 rows\n",
      "\n"
     ]
    }
   ],
   "source": [
    "sub_df.show()"
   ]
  },
  {
   "cell_type": "code",
   "execution_count": 7,
   "id": "39c4783c",
   "metadata": {},
   "outputs": [
    {
     "name": "stderr",
     "output_type": "stream",
     "text": [
      "23/10/13 01:44:54 WARN InstanceBuilder$NativeBLAS: Failed to load implementation from:dev.ludovic.netlib.blas.JNIBLAS\n",
      "23/10/13 01:44:54 WARN InstanceBuilder$NativeBLAS: Failed to load implementation from:dev.ludovic.netlib.blas.ForeignLinkerBLAS\n",
      "23/10/13 01:44:54 WARN InstanceBuilder$NativeLAPACK: Failed to load implementation from:dev.ludovic.netlib.lapack.JNILAPACK\n",
      "                                                                                \r"
     ]
    },
    {
     "name": "stdout",
     "output_type": "stream",
     "text": [
      "Best RegParam:  0.01\n",
      "Best ElasticNetParam:  0.5\n"
     ]
    },
    {
     "name": "stderr",
     "output_type": "stream",
     "text": [
      "\r",
      "[Stage 176:>                                                        (0 + 1) / 1]\r"
     ]
    },
    {
     "name": "stdout",
     "output_type": "stream",
     "text": [
      "RMSE on test data:  0.34658159288273\n"
     ]
    },
    {
     "name": "stderr",
     "output_type": "stream",
     "text": [
      "\r",
      "                                                                                \r"
     ]
    }
   ],
   "source": [
    "from pyspark.ml.regression import LinearRegression\n",
    "from pyspark.ml.evaluation import RegressionEvaluator\n",
    "from pyspark.ml.tuning import ParamGridBuilder, CrossValidator\n",
    "\n",
    "training, test = sub_df.randomSplit([0.7, 0.3])\n",
    "\n",
    "# Define your regression model\n",
    "lr = LinearRegression(featuresCol='features', labelCol='How_Long_Delayed', predictionCol='prediction')\n",
    "\n",
    "# Create a grid of hyperparameters to search\n",
    "paramGrid = ParamGridBuilder() \\\n",
    "    .addGrid(lr.regParam, [0.01, 0.1, 0.5]) \\\n",
    "    .addGrid(lr.elasticNetParam, [0.0, 0.5, 1.0]) \\\n",
    "    .build()\n",
    "\n",
    "# Define an evaluator\n",
    "evaluator = RegressionEvaluator(\n",
    "    labelCol='How_Long_Delayed',\n",
    "    predictionCol='prediction',\n",
    "    metricName='rmse' \n",
    ")\n",
    "\n",
    "# Create a k-fold CrossValidator\n",
    "crossval = CrossValidator(\n",
    "    estimator=lr,\n",
    "    estimatorParamMaps=paramGrid,\n",
    "    evaluator=evaluator,\n",
    "    numFolds=5  \n",
    ")\n",
    "\n",
    "# Fit the CrossValidator to the training data\n",
    "cvModel = crossval.fit(training)\n",
    "\n",
    "# Get the best model from cross-validation\n",
    "best_model = cvModel.bestModel\n",
    "\n",
    "# View the best hyperparameters\n",
    "print(\"Best RegParam: \", best_model._java_obj.getRegParam())\n",
    "print(\"Best ElasticNetParam: \", best_model._java_obj.getElasticNetParam())\n",
    "\n",
    "# Evaluate the best model on the test set\n",
    "test_predictions = best_model.transform(test)\n",
    "test_rmse = evaluator.evaluate(test_predictions)\n",
    "print(\"RMSE on test data: \", test_rmse)\n"
   ]
  },
  {
   "cell_type": "code",
   "execution_count": 7,
   "id": "dd6cbd9b",
   "metadata": {},
   "outputs": [
    {
     "name": "stderr",
     "output_type": "stream",
     "text": [
      "23/10/13 01:49:55 WARN InstanceBuilder$NativeBLAS: Failed to load implementation from:dev.ludovic.netlib.blas.JNIBLAS\n",
      "23/10/13 01:49:55 WARN InstanceBuilder$NativeBLAS: Failed to load implementation from:dev.ludovic.netlib.blas.ForeignLinkerBLAS\n",
      "23/10/13 01:49:55 WARN InstanceBuilder$NativeLAPACK: Failed to load implementation from:dev.ludovic.netlib.lapack.JNILAPACK\n",
      "                                                                                \r"
     ]
    },
    {
     "name": "stdout",
     "output_type": "stream",
     "text": [
      "Feature Coefficients\n",
      "Row(Run_Type='General Ed AM Run', Run_Type_encoded=SparseVector(8, {2: 1.0})): 0.013385446871170971, 0.7187261228034478\n",
      "Row(Run_Type='General Ed Field Trip', Run_Type_encoded=SparseVector(8, {5: 1.0})): -0.059020604453423574, 0.13773210721781393\n",
      "Row(Run_Type='Pre-K/EI', Run_Type_encoded=SparseVector(8, {3: 1.0})): -0.015208736115761276, 0.732479307379422\n",
      "Row(Run_Type='Special Ed Field Trip', Run_Type_encoded=SparseVector(8, {6: 1.0})): 0.04122741813129261, 0.6724242749316547\n",
      "Row(Run_Type='General Ed PM Run', Run_Type_encoded=SparseVector(8, {4: 1.0})): -0.09777323402557615, 0.01201958703979944\n",
      "Row(Run_Type='Special Ed PM Run', Run_Type_encoded=SparseVector(8, {1: 1.0})): 0.12515443994008102, 0.002898884080858366\n",
      "Row(Run_Type='Project Read PM Run', Run_Type_encoded=SparseVector(8, {7: 1.0})): -0.059737534617445326, 0.23620969164062555\n",
      "Row(Run_Type='Special Ed AM Run', Run_Type_encoded=SparseVector(8, {0: 1.0})): 0.06860492646508302, 0.20636623392908127\n",
      "\n",
      "\n",
      "Row(Reason='Heavy Traffic', Reason_encoded=SparseVector(10, {0: 1.0})): -0.09777323402557615, 0.01201958703979944\n",
      "Row(Reason='Weather Conditions', Reason_encoded=SparseVector(10, {4: 1.0})): 0.12515443994008102, 0.002898884080858366\n",
      "Row(Reason='Delayed by School', Reason_encoded=SparseVector(10, {9: 1.0})): -0.059737534617445326, 0.23620969164062555\n",
      "Row(Reason='Won`t Start', Reason_encoded=SparseVector(10, {7: 1.0})): 0.06860492646508302, 0.20636623392908127\n",
      "Row(Reason='Late return from Field Trip', Reason_encoded=SparseVector(10, {5: 1.0})): 0.33407119006230435, 2.480900596069091e-09\n",
      "Row(Reason='Flat Tire', Reason_encoded=SparseVector(10, {6: 1.0})): 0.010573781717904653, 0.747474257183042\n",
      "Row(Reason='Other', Reason_encoded=SparseVector(10, {1: 1.0})): -0.12088226646404714, 0.00025359700746818703\n",
      "Row(Reason='Problem Run', Reason_encoded=SparseVector(10, {3: 1.0})): 0.42878847956484795, 0.0\n",
      "Row(Reason='Mechanical Problem', Reason_encoded=SparseVector(10, {2: 1.0})): -0.07072842622240418, 0.19212284587547646\n",
      "Row(Reason='Accident', Reason_encoded=SparseVector(10, {8: 1.0})): 0.04085092712087877, 0.5995188439858772\n",
      "\n",
      "\n",
      "Row(Boro='Rockland County', Boro_encoded=SparseVector(11, {9: 1.0})): 0.010573781717904653, 0.747474257183042\n",
      "Row(Boro='Staten Island', Boro_encoded=SparseVector(11, {4: 1.0})): -0.12088226646404714, 0.00025359700746818703\n",
      "Row(Boro='New Jersey', Boro_encoded=SparseVector(11, {7: 1.0})): 0.42878847956484795, 0.0\n",
      "Row(Boro='Nassau County', Boro_encoded=SparseVector(11, {5: 1.0})): -0.07072842622240418, 0.19212284587547646\n",
      "Row(Boro='Brooklyn', Boro_encoded=SparseVector(11, {1: 1.0})): 0.04085092712087877, 0.5995188439858772\n",
      "Row(Boro='Manhattan', Boro_encoded=SparseVector(11, {0: 1.0})): -0.2845379003720656, 0.1073749777528934\n",
      "Row(Boro='Bronx', Boro_encoded=SparseVector(11, {2: 1.0})): -0.3184560415371335, 0.0\n",
      "Row(Boro='Queens', Boro_encoded=SparseVector(11, {3: 1.0})): -0.12706491428394365, 0.00020414561783521634\n",
      "Row(Boro='Westchester', Boro_encoded=SparseVector(11, {6: 1.0})): -0.5776313924200516, 0.0\n",
      "Row(Boro='All Boroughs', Boro_encoded=SparseVector(11, {8: 1.0})): -0.3802031048465983, 0.0\n",
      "\n",
      "\n",
      "Row(Bus_Company_Name='L & M BUS CORP. (B2321)', Bus_Company_Name_encoded=SparseVector(64, {60: 1.0})): 0.258113779729868, 1.7763568394002505e-15\n",
      "Row(Bus_Company_Name='MJT BUS COMPANY, INC', Bus_Company_Name_encoded=SparseVector(64, {49: 1.0})): 0.08704540936998652, 0.009945918580867463\n",
      "Row(Bus_Company_Name='LEESEL TRANSPORTATION CORP (B2192)', Bus_Company_Name_encoded=SparseVector(64, {0: 1.0})): 0.462049318853685, 0.0\n",
      "Row(Bus_Company_Name='G.V.C. LTD. (B2192)', Bus_Company_Name_encoded=SparseVector(64, {17: 1.0})): 0.1062700521125773, 0.0031001963521470888\n",
      "Row(Bus_Company_Name='FIRST STEPS TRANS INC. (B2192)', Bus_Company_Name_encoded=SparseVector(64, {24: 1.0})): -0.07613857633420548, 0.2539925680113515\n",
      "Row(Bus_Company_Name='BORO TRANSIT, INC.', Bus_Company_Name_encoded=SparseVector(64, {3: 1.0})): -0.2318436105395879, 5.728624241641e-10\n",
      "Row(Bus_Company_Name='Don Thomas Buses', Bus_Company_Name_encoded=SparseVector(64, {58: 1.0})): -0.26380504569526336, 5.153524273993071e-10\n",
      "Row(Bus_Company_Name='DON THOMAS BUSES, INC. (B2321)', Bus_Company_Name_encoded=SparseVector(64, {19: 1.0})): -0.22415631959713575, 9.261358169254663e-08\n",
      "Row(Bus_Company_Name='PHILLIP BUS CORP (B2192)', Bus_Company_Name_encoded=SparseVector(64, {32: 1.0})): 0.3605583730142701, 0.0\n",
      "Row(Bus_Company_Name='GVC LTD', Bus_Company_Name_encoded=SparseVector(64, {59: 1.0})): -0.014216805324153491, 0.7415507456036652\n",
      "\n",
      "\n",
      "\n",
      "Model Intercept (Bias): 3.7388481155768063\n",
      "\n",
      "Root Mean Squared Error (RMSE): 0.3465136390443185\n",
      "R-squared (R2): 0.46782964564002816\n"
     ]
    }
   ],
   "source": [
    "import ast\n",
    "\n",
    "training, test = sub_df.randomSplit([0.85, 0.15])\n",
    "reg_param = 0.01\n",
    "elastic_net_param = 0.0\n",
    "\n",
    "lr = LinearRegression(featuresCol='features', labelCol='How_Long_Delayed', predictionCol='prediction',\n",
    "                      regParam=reg_param, elasticNetParam=elastic_net_param)\n",
    "\n",
    "lrModel = lr.fit(training)\n",
    "predictions = lrModel.transform(test)\n",
    "\n",
    "coefficients = lrModel.coefficients\n",
    "\n",
    "intercept = lrModel.intercept\n",
    "model_summary = lrModel.summary\n",
    "\n",
    "rmse = model_summary.rootMeanSquaredError\n",
    "\n",
    "r2 = model_summary.r2\n",
    "\n",
    "# Display results\n",
    "print(\"Feature Coefficients\")\n",
    "coefficients = ast.literal_eval(str(lrModel.coefficients))\n",
    "pValues = ast.literal_eval(str(model_summary.pValues))\n",
    "cnt=0\n",
    "for i, feature_col in enumerate(df.select('Run_Type','Run_Type_encoded').distinct().collect()):\n",
    "    coefficient = coefficients[cnt+i]\n",
    "    pValue = pValues[cnt+i]\n",
    "    cnt += 1\n",
    "    print(f\"{feature_col}: {coefficient}, {pValue}\")\n",
    "print('\\n')\n",
    "for i, feature_col in enumerate(df.select('Reason','Reason_encoded').distinct().collect()):\n",
    "    coefficient = coefficients[cnt+i]\n",
    "    pValue = pValues[cnt+i]\n",
    "    cnt += 1\n",
    "    print(f\"{feature_col}: {coefficient}, {pValue}\")\n",
    "print('\\n')\n",
    "for i, feature_col in enumerate(df.select('Boro','Boro_encoded').distinct().collect()):\n",
    "    if i < 10:\n",
    "        coefficient = coefficients[cnt+i]\n",
    "        pValue = pValues[cnt+i]\n",
    "        print(f\"{feature_col}: {coefficient}, {pValue}\")\n",
    "    cnt += 1\n",
    "print('\\n')\n",
    "for i, feature_col in enumerate(df.select('Bus_Company_Name','Bus_Company_Name_encoded').distinct().collect()):\n",
    "    if i < 10:\n",
    "        coefficient = coefficients[cnt+i]\n",
    "        pValue = pValues[cnt+i]\n",
    "        print(f\"{feature_col}: {coefficient}, {pValue}\")\n",
    "    cnt += 1\n",
    "print('\\n')\n",
    "\n",
    "print(\"\\nModel Intercept (Bias):\", intercept)\n",
    "\n",
    "print(f\"\\nRoot Mean Squared Error (RMSE): {rmse}\")\n",
    "print(f\"R-squared (R2): {r2}\")"
   ]
  },
  {
   "cell_type": "code",
   "execution_count": 23,
   "id": "e7165eab",
   "metadata": {},
   "outputs": [
    {
     "data": {
      "image/png": "[encoded data removed]",
      "text/plain": [
       "<Figure size 432x288 with 2 Axes>"
      ]
     },
     "metadata": {
      "needs_background": "light"
     },
     "output_type": "display_data"
    },
    {
     "data": {
      "image/png": "[encoded data removed]",
      "text/plain": [
       "<Figure size 432x288 with 2 Axes>"
      ]
     },
     "metadata": {
      "needs_background": "light"
     },
     "output_type": "display_data"
    },
    {
     "data": {
      "image/png": "[encoded data removed]",
      "text/plain": [
       "<Figure size 432x288 with 2 Axes>"
      ]
     },
     "metadata": {
      "needs_background": "light"
     },
     "output_type": "display_data"
    }
   ],
   "source": [
    "import matplotlib.pyplot as plt\n",
    "\n",
    "df2 = df.toPandas()\n",
    "# Visualise the delay time against the predictor variables\n",
    "df2.plot.scatter(x='Run_Type', y='Reason', c='How_Long_Delayed', colormap='viridis')\n",
    "df2.plot.scatter(x='Run_Type', y='Boro', c='How_Long_Delayed', colormap='viridis')\n",
    "df2.plot.scatter(x='Reason', y='Boro', c='How_Long_Delayed', colormap='viridis')\n",
    "plt.xticks(rotation=15)\n",
    "plt.show()"
   ]
  },
  {
   "cell_type": "code",
   "execution_count": 8,
   "id": "1ffbd981",
   "metadata": {},
   "outputs": [
    {
     "name": "stderr",
     "output_type": "stream",
     "text": [
      "/home/ubuntu/spark-3.2.1-bin-hadoop2.7/python/pyspark/sql/context.py:125: FutureWarning: Deprecated in 3.0.0. Use SparkSession.builder.getOrCreate() instead.\n",
      "  warnings.warn(\n"
     ]
    },
    {
     "data": {
      "image/png": "[encoded data removed]",
      "text/plain": [
       "<Figure size 432x288 with 1 Axes>"
      ]
     },
     "metadata": {
      "needs_background": "light"
     },
     "output_type": "display_data"
    }
   ],
   "source": [
    "# Extract the residuals\n",
    "residuals = model_summary.residuals.toPandas()\n",
    "residuals.plot.hist(bins=20)\n",
    "plt.show()"
   ]
  },
  {
   "cell_type": "code",
   "execution_count": 8,
   "id": "f72b6dbc",
   "metadata": {},
   "outputs": [
    {
     "data": {
      "image/png": "[encoded data removed]",
      "text/plain": [
       "<Figure size 432x288 with 1 Axes>"
      ]
     },
     "metadata": {
      "needs_background": "light"
     },
     "output_type": "display_data"
    }
   ],
   "source": [
    "import matplotlib.pyplot as plt\n",
    "import pandas as pd\n",
    "predictions = predictions.toPandas()\n",
    "\n",
    "boxplot = pd.DataFrame({'Actual': predictions['How_Long_Delayed'], 'Predicted': predictions['prediction']})\n",
    "boxplot.plot.box()\n",
    "plt.show()"
   ]
  },
  {
   "cell_type": "code",
   "execution_count": 25,
   "id": "be22c96d",
   "metadata": {},
   "outputs": [
    {
     "data": {
      "image/png": "[encoded data removed]",
      "text/plain": [
       "<Figure size 576x432 with 1 Axes>"
      ]
     },
     "metadata": {
      "needs_background": "light"
     },
     "output_type": "display_data"
    }
   ],
   "source": [
    "import matplotlib.pyplot as plt\n",
    "import numpy as np\n",
    "\n",
    "residuals2 = np.array([residuals])\n",
    "\n",
    "quantile_levels = [i / 100.0 for i in range(101)]\n",
    "\n",
    "# Compute the quantiles of the residuals\n",
    "quantiles = np.percentile(residuals2, quantile_levels)\n",
    "\n",
    "# Plot the Q-Q plot\n",
    "plt.figure(figsize=(8, 6))\n",
    "plt.scatter(np.percentile(np.random.normal(0, 1, len(residuals)), quantile_levels), quantiles)\n",
    "plt.title(\"Q-Q Plot of Residuals\")\n",
    "plt.xlabel(\"Theoretical Quantiles\")\n",
    "plt.ylabel(\"Sample Quantiles\")\n",
    "plt.grid(True)\n",
    "plt.show()"
   ]
  },
  {
   "cell_type": "code",
   "execution_count": null,
   "id": "d3ab9b3a",
   "metadata": {},
   "outputs": [],
   "source": [
    "from pyspark.ml.feature import StringIndexer, VectorAssembler\n",
    "from pyspark.ml import Pipeline\n",
    "from pyspark.ml.feature import VectorAssembler, MinMaxScaler\n",
    "\n",
    "target_column = 'How_Long_Delayed'\n",
    "group = ['Run_Type_encoded', 'Reason_encoded', 'Buro_encoded', 'Bus_Company_Name_encoded']\n",
    "\n",
    "df = df.withColumn('How_Long_Delayed', when(df['How_Long_Delayed'] > 45, 1)\n",
    "                                 .when(df['How_Long_Delayed'] <= 45, 0))\n",
    "\n",
    "# Create StringIndexers for categorical predictor variables\n",
    "Run_Type_indexer = StringIndexer(inputCol=\"Run_Type\", outputCol=\"Run_Type_index\")\n",
    "Reason_indexer = StringIndexer(inputCol=\"Reason\", outputCol=\"Reason_index\")\n",
    "Buro_indexer = StringIndexer(inputCol=\"Buro\", outputCol=\"Buro_index\")\n",
    "\n",
    "# Create a StringIndexer for the target variable\n",
    "target_indexer = StringIndexer(inputCol=\"How_Long_Delayed\", outputCol=\"label\")\n",
    "\n",
    "# Assemble the predictor variables into a single features column\n",
    "assembler = VectorAssembler(\n",
    "    inputCols=[\"Run_Type_index\",\"Reason_index\" ,\"Buro_index\"],\n",
    "    outputCol=\"features\"\n",
    ")\n",
    "\n",
    "# Define a pipeline to execute the transformations\n",
    "pipeline = Pipeline(stages=[Run_Type_indexer, Reason_indexer, Buro_indexer, target_indexer, assembler])\n",
    "\n",
    "# Fit and transform the data using the pipeline\n",
    "model = pipeline.fit(df)\n",
    "data = model.transform(df)\n",
    "\n",
    "final_df = data.select(\"label\", \"features\")\n",
    "\n"
   ]
  },
  {
   "cell_type": "code",
   "execution_count": 21,
   "id": "a7bbb39a",
   "metadata": {},
   "outputs": [
    {
     "name": "stdout",
     "output_type": "stream",
     "text": [
      "AUC: 0.5644752156701939\n",
      "Accuracy: 0.7047101449275363\n"
     ]
    }
   ],
   "source": [
    "from pyspark.ml.classification import LogisticRegression\n",
    "from pyspark.sql.functions import col\n",
    "from pyspark.ml.evaluation import BinaryClassificationEvaluator, MulticlassClassificationEvaluator\n",
    "\n",
    "train_data, test_data = final_df.randomSplit([0.7, 0.3])\n",
    "\n",
    "lgr = LogisticRegression(featuresCol=\"features\", labelCol=\"label\")\n",
    "\n",
    "trained_model = lgr.fit(train_data)\n",
    "predictions = trained_model.transform(test_data)\n",
    "    \n",
    "\n",
    "binary_evaluator = BinaryClassificationEvaluator()\n",
    "auc = binary_evaluator.evaluate(predictions)\n",
    "    \n",
    "# Calculate Accuracy\n",
    "multiclass_evaluator = MulticlassClassificationEvaluator(labelCol=\"label\", predictionCol=\"prediction\", metricName=\"accuracy\")\n",
    "accuracy = multiclass_evaluator.evaluate(predictions)\n",
    "    \n",
    "print(f\"AUC: {auc}\")\n",
    "print(f\"Accuracy: {accuracy}\")\n",
    "    \n",
    "  "
   ]
  },
  {
   "cell_type": "code",
   "execution_count": 29,
   "id": "4e986bf4",
   "metadata": {},
   "outputs": [
    {
     "name": "stdout",
     "output_type": "stream",
     "text": [
      "+-----+------------------+\n",
      "|label|          features|\n",
      "+-----+------------------+\n",
      "|  0.0| [1.0,0.0,4.0,1.0]|\n",
      "|  0.0|[4.0,1.0,2.0,25.0]|\n",
      "|  1.0| [4.0,0.0,2.0,1.0]|\n",
      "|  0.0|[3.0,1.0,1.0,11.0]|\n",
      "|  0.0|         (4,[],[])|\n",
      "|  1.0|[0.0,0.0,2.0,22.0]|\n",
      "|  0.0|         (4,[],[])|\n",
      "|  0.0| [0.0,0.0,1.0,6.0]|\n",
      "|  1.0|[0.0,0.0,1.0,23.0]|\n",
      "|  1.0|[0.0,0.0,1.0,10.0]|\n",
      "|  0.0| [2.0,0.0,4.0,1.0]|\n",
      "|  1.0| [1.0,0.0,6.0,7.0]|\n",
      "|  1.0|[0.0,0.0,1.0,20.0]|\n",
      "|  1.0|[2.0,8.0,2.0,25.0]|\n",
      "|  1.0|[0.0,0.0,2.0,19.0]|\n",
      "|  0.0|[1.0,1.0,3.0,16.0]|\n",
      "|  0.0|         (4,[],[])|\n",
      "|  0.0|[2.0,0.0,2.0,37.0]|\n",
      "|  0.0| [0.0,0.0,1.0,4.0]|\n",
      "|  0.0| [0.0,0.0,2.0,4.0]|\n",
      "+-----+------------------+\n",
      "only showing top 20 rows\n",
      "\n"
     ]
    }
   ],
   "source": [
    "from pyspark.ml.feature import StringIndexer, VectorAssembler\n",
    "from pyspark.ml import Pipeline\n",
    "from pyspark.ml.feature import VectorAssembler, MinMaxScaler\n",
    "\n",
    "target_column = 'How_Long_Delayed'\n",
    "group = ['Run_Type_encoded', 'Reason_encoded', 'Boro_encoded', 'Bus_Company_Name_encoded']\n",
    "\n",
    "df = df.withColumn('How_Long_Delayed', when(df['How_Long_Delayed'] > 30, 1)\n",
    "                                  .when(df['How_Long_Delayed'] <= 30, 0))\n",
    "\n",
    "# Create StringIndexers for categorical predictor variables\n",
    "Run_Type_indexer = StringIndexer(inputCol=\"Run_Type\", outputCol=\"Run_Type_index\")\n",
    "Reason_indexer = StringIndexer(inputCol=\"Reason\", outputCol=\"Reason_index\")\n",
    "Boro_indexer = StringIndexer(inputCol=\"Boro\", outputCol=\"Boro_index\")\n",
    "Bus_Company_Name_indexer = StringIndexer(inputCol=\"Bus_Company_Name\", outputCol=\"Bus_Company_Name_index\")\n",
    "\n",
    "# Create a StringIndexer for the target variable\n",
    "target_indexer = StringIndexer(inputCol=\"How_Long_Delayed\", outputCol=\"label\")\n",
    "\n",
    "# Assemble the predictor variables into a single features column\n",
    "assembler = VectorAssembler(\n",
    "    inputCols=[\"Run_Type_index\",\"Reason_index\", \"Boro_index\",\"Bus_Company_Name_index\"],\n",
    "    outputCol=\"features\"\n",
    ")\n",
    "\n",
    "# Define a pipeline to execute the transformations\n",
    "pipeline = Pipeline(stages=[Run_Type_indexer, Reason_indexer, Boro_indexer, Bus_Company_Name_indexer, target_indexer, assembler])\n",
    "\n",
    "# Fit and transform the data using the pipeline\n",
    "model = pipeline.fit(df)\n",
    "data = model.transform(df)\n",
    "\n",
    "\n",
    "final_df = data.select(\"label\", \"features\")\n",
    "final_df.show()"
   ]
  },
  {
   "cell_type": "code",
   "execution_count": 30,
   "id": "6632b471",
   "metadata": {},
   "outputs": [
    {
     "name": "stderr",
     "output_type": "stream",
     "text": [
      "                                                                                \r"
     ]
    },
    {
     "name": "stdout",
     "output_type": "stream",
     "text": [
      "AUC: 0.616349467935925\n",
      "Accuracy: 0.5799035965888024\n"
     ]
    }
   ],
   "source": [
    "from pyspark.ml.classification import LogisticRegression\n",
    "from pyspark.sql.functions import col\n",
    "from pyspark.ml.evaluation import BinaryClassificationEvaluator, MulticlassClassificationEvaluator\n",
    "\n",
    "train_data, test_data = final_df.randomSplit([0.7, 0.3])\n",
    "\n",
    "lgr = LogisticRegression(featuresCol=\"features\", labelCol=\"label\")\n",
    "\n",
    "trained_model = lgr.fit(train_data)\n",
    "predictions = trained_model.transform(test_data)\n",
    "    \n",
    "\n",
    "binary_evaluator = BinaryClassificationEvaluator()\n",
    "auc = binary_evaluator.evaluate(predictions)\n",
    "    \n",
    "# Calculate Accuracy\n",
    "multiclass_evaluator = MulticlassClassificationEvaluator(labelCol=\"label\", predictionCol=\"prediction\", metricName=\"accuracy\")\n",
    "accuracy = multiclass_evaluator.evaluate(predictions)\n",
    "    \n",
    "print(f\"AUC: {auc}\")\n",
    "print(f\"Accuracy: {accuracy}\")"
   ]
  },
  {
   "cell_type": "code",
   "execution_count": null,
   "id": "b4dbbbf8",
   "metadata": {},
   "outputs": [],
   "source": []
  }
 ],
 "metadata": {
  "kernelspec": {
   "display_name": "Python 3 (ipykernel)",
   "language": "python",
   "name": "python3"
  },
  "language_info": {
   "codemirror_mode": {
    "name": "ipython",
    "version": 3
   },
   "file_extension": ".py",
   "mimetype": "text/x-python",
   "name": "python",
   "nbconvert_exporter": "python",
   "pygments_lexer": "ipython3",
   "version": "3.10.4"
  }
 },
 "nbformat": 4,
 "nbformat_minor": 5
}
